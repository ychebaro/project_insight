{
 "cells": [
  {
   "cell_type": "code",
   "execution_count": 93,
   "metadata": {},
   "outputs": [],
   "source": [
    "from gensim.scripts.glove2word2vec import glove2word2vec\n",
    "import pandas as pd\n",
    "import numpy as np\n",
    "import gzip\n",
    "import json\n",
    "import re\n",
    "import os\n",
    "import sys\n",
    "import prince\n",
    "import category_encoders as ce   # version 1.2.8\n",
    "from sklearn.preprocessing import LabelEncoder\n",
    "from sklearn.cluster import KMeans\n",
    "from fuzzywuzzy import fuzz\n",
    "import matplotlib.pyplot as plt\n",
    "from sklearn.decomposition import PCA\n",
    "from sklearn.preprocessing import StandardScaler\n",
    "from fuzzywuzzy import fuzz\n",
    "import seaborn as sns\n",
    "\n",
    "sns.set()\n",
    "\n",
    "\n",
    "%matplotlib inline"
   ]
  },
  {
   "cell_type": "markdown",
   "metadata": {},
   "source": [
    "Removing tags who have only one count, not significant enough, and if books have less than one tag remove them from database"
   ]
  },
  {
   "cell_type": "code",
   "execution_count": 20,
   "metadata": {},
   "outputs": [],
   "source": [
    "# get data needed to facilitate processing\n",
    "def get_data(inputdata):\n",
    "    books = []\n",
    "    with open(inputdata) as json_file:\n",
    "        for lines in json_file:\n",
    "            book = {}\n",
    "            line = json.loads(lines)\n",
    "            \n",
    "            names = [elm['name'] for elm in line['popular_shelves'] if int(elm['count']) > 2]\n",
    "            counts = [elm['count'] for elm in line['popular_shelves'] if int(elm['count']) > 2]\n",
    "            if len(names) > 1: \n",
    "                book['isbn'] = line['isbn']\n",
    "                book['book_id'] = line['book_id']\n",
    "                book['popular_shelves'] = names\n",
    "                book['count_shelves'] = counts\n",
    "                book['average_rating'] = line['average_rating']\n",
    "                book['title'] = line['title']\n",
    "                books.append(book)\n",
    "    return books"
   ]
  },
  {
   "cell_type": "code",
   "execution_count": 21,
   "metadata": {},
   "outputs": [],
   "source": [
    "books = get_data('data_category_20-09.json')"
   ]
  },
  {
   "cell_type": "code",
   "execution_count": 22,
   "metadata": {},
   "outputs": [
    {
     "data": {
      "text/plain": [
       "424819"
      ]
     },
     "execution_count": 22,
     "metadata": {},
     "output_type": "execute_result"
    }
   ],
   "source": [
    "len(books)"
   ]
  },
  {
   "cell_type": "code",
   "execution_count": 23,
   "metadata": {},
   "outputs": [
    {
     "data": {
      "text/html": [
       "<div>\n",
       "<style scoped>\n",
       "    .dataframe tbody tr th:only-of-type {\n",
       "        vertical-align: middle;\n",
       "    }\n",
       "\n",
       "    .dataframe tbody tr th {\n",
       "        vertical-align: top;\n",
       "    }\n",
       "\n",
       "    .dataframe thead th {\n",
       "        text-align: right;\n",
       "    }\n",
       "</style>\n",
       "<table border=\"1\" class=\"dataframe\">\n",
       "  <thead>\n",
       "    <tr style=\"text-align: right;\">\n",
       "      <th></th>\n",
       "      <th>average_rating</th>\n",
       "      <th>book_id</th>\n",
       "      <th>count_shelves</th>\n",
       "      <th>isbn</th>\n",
       "      <th>popular_shelves</th>\n",
       "      <th>title</th>\n",
       "    </tr>\n",
       "  </thead>\n",
       "  <tbody>\n",
       "    <tr>\n",
       "      <th>0</th>\n",
       "      <td>3.93</td>\n",
       "      <td>6066814</td>\n",
       "      <td>[159, 12, 11, 10, 7, 6, 5, 3, 3, 3, 3]</td>\n",
       "      <td>184737297X</td>\n",
       "      <td>[to-read, historical-fiction, mystery, histori...</td>\n",
       "      <td>Crowner Royal (Crowner John Mystery, #13)</td>\n",
       "    </tr>\n",
       "    <tr>\n",
       "      <th>1</th>\n",
       "      <td>3.65</td>\n",
       "      <td>2008911</td>\n",
       "      <td>[44, 7, 3, 3, 3]</td>\n",
       "      <td>0440083087</td>\n",
       "      <td>[to-read, short-stories, fiction, french, fran...</td>\n",
       "      <td>Silken Eyes</td>\n",
       "    </tr>\n",
       "    <tr>\n",
       "      <th>2</th>\n",
       "      <td>3.48</td>\n",
       "      <td>7203847</td>\n",
       "      <td>[7615, 1526, 1108, 866, 321, 317, 246, 245, 24...</td>\n",
       "      <td>0142427896</td>\n",
       "      <td>[to-read, horror, stephen-king, fiction, curre...</td>\n",
       "      <td>The Tommyknockers</td>\n",
       "    </tr>\n",
       "    <tr>\n",
       "      <th>3</th>\n",
       "      <td>3.75</td>\n",
       "      <td>6158967</td>\n",
       "      <td>[362, 25, 24, 10, 9, 8, 8, 7, 6, 4, 4, 3]</td>\n",
       "      <td>1400041694</td>\n",
       "      <td>[to-read, currently-reading, non-fiction, soci...</td>\n",
       "      <td>Crude World: The Violent Twilight of Oil</td>\n",
       "    </tr>\n",
       "    <tr>\n",
       "      <th>4</th>\n",
       "      <td>4.04</td>\n",
       "      <td>12182387</td>\n",
       "      <td>[1057, 101, 59, 58, 55, 36, 35, 26, 25, 25, 19...</td>\n",
       "      <td></td>\n",
       "      <td>[to-read, young-adult, ya, paranormal, fantasy...</td>\n",
       "      <td>The Passion (Dark Visions, #3)</td>\n",
       "    </tr>\n",
       "  </tbody>\n",
       "</table>\n",
       "</div>"
      ],
      "text/plain": [
       "  average_rating   book_id                                      count_shelves  \\\n",
       "0           3.93   6066814             [159, 12, 11, 10, 7, 6, 5, 3, 3, 3, 3]   \n",
       "1           3.65   2008911                                   [44, 7, 3, 3, 3]   \n",
       "2           3.48   7203847  [7615, 1526, 1108, 866, 321, 317, 246, 245, 24...   \n",
       "3           3.75   6158967          [362, 25, 24, 10, 9, 8, 8, 7, 6, 4, 4, 3]   \n",
       "4           4.04  12182387  [1057, 101, 59, 58, 55, 36, 35, 26, 25, 25, 19...   \n",
       "\n",
       "         isbn                                    popular_shelves  \\\n",
       "0  184737297X  [to-read, historical-fiction, mystery, histori...   \n",
       "1  0440083087  [to-read, short-stories, fiction, french, fran...   \n",
       "2  0142427896  [to-read, horror, stephen-king, fiction, curre...   \n",
       "3  1400041694  [to-read, currently-reading, non-fiction, soci...   \n",
       "4              [to-read, young-adult, ya, paranormal, fantasy...   \n",
       "\n",
       "                                       title  \n",
       "0  Crowner Royal (Crowner John Mystery, #13)  \n",
       "1                                Silken Eyes  \n",
       "2                          The Tommyknockers  \n",
       "3   Crude World: The Violent Twilight of Oil  \n",
       "4             The Passion (Dark Visions, #3)  "
      ]
     },
     "execution_count": 23,
     "metadata": {},
     "output_type": "execute_result"
    }
   ],
   "source": [
    "df = pd.DataFrame(books)\n",
    "df.head()"
   ]
  },
  {
   "cell_type": "markdown",
   "metadata": {},
   "source": [
    "Now let's see how many unique tags this df contains: 60311"
   ]
  },
  {
   "cell_type": "code",
   "execution_count": 26,
   "metadata": {},
   "outputs": [],
   "source": [
    "alltags = [elm for book in df['popular_shelves'] for elm in book]"
   ]
  },
  {
   "cell_type": "code",
   "execution_count": 27,
   "metadata": {},
   "outputs": [
    {
     "data": {
      "text/plain": [
       "60311"
      ]
     },
     "execution_count": 27,
     "metadata": {},
     "output_type": "execute_result"
    }
   ],
   "source": [
    "len(list(set(alltags)))"
   ]
  },
  {
   "cell_type": "markdown",
   "metadata": {},
   "source": [
    "Remove the identified useless tags so far, selection of more than 2 counts helps reducing the irrelevant tags"
   ]
  },
  {
   "cell_type": "code",
   "execution_count": 28,
   "metadata": {},
   "outputs": [],
   "source": [
    "def clean_data_nasty_tags(dfin):\n",
    "\n",
    "    popular_shelves = dfin['popular_shelves']\n",
    "    count_shelves = dfin['count_shelves']\n",
    "    \n",
    "    popnew = []\n",
    "    cnew = []\n",
    "\n",
    "    for elm, elmc in zip(popular_shelves, count_shelves):    \n",
    "        to_remove = []\n",
    "        for i in range(len(elm)):\n",
    "            if (len(elm[i]) == 1) or (bool(re.match('.*book*', elm[i])) == True)\\\n",
    "            or (bool(re.match('.*read*', elm[i])) == True) or (bool(re.match('.*favorite*', elm[i])) == True)\\\n",
    "            or (bool(re.match('.*need*', elm[i])) == True) or (bool(re.match('.*own*', elm[i])) == True)\\\n",
    "            or (bool(re.match('.*shelve*', elm[i])) == True) or (bool(re.match('.*like*', elm[i])) == True)\\\n",
    "            or (bool(re.match('.*shelf*', elm[i])) == True) or (bool(re.match('.*buy*', elm[i])) == True)\\\n",
    "            or (bool(re.match('tbr', elm[i])) == True) or (bool(re.match('.*finish*', elm[i])) == True)\\\n",
    "            or (bool(re.match('.*kindle*', elm[i])) == True) or (bool(re.match('.*list*', elm[i])) == True)\\\n",
    "            or (bool(re.match('.*year*', elm[i])) == True) or (bool(re.match('.*audio*', elm[i])) == True)\\\n",
    "            or (bool(re.match('.*library*', elm[i])) == True) or (bool(re.search(r'\\d+', elm[i])) == True)\\\n",
    "            or (bool(re.match('[^\\x00-\\x7F\\x80-\\xFF\\u0100-\\u017F\\u0180-\\u024F\\u1E00-\\u1EFF]', elm[i])) == True):\n",
    "                #print(i, elm[i])\n",
    "                to_remove.append(i) \n",
    "        #print(to_remove)\n",
    "        \n",
    "        popnew.append([elm[e] for e in range(len(elm)) if e not in to_remove])\n",
    "        cnew.append([elmc[e] for e in range(len(elmc)) if e not in to_remove])\n",
    " \n",
    "    return popnew, cnew"
   ]
  },
  {
   "cell_type": "code",
   "execution_count": 29,
   "metadata": {},
   "outputs": [],
   "source": [
    "pop, count = clean_data_nasty_tags(df)"
   ]
  },
  {
   "cell_type": "markdown",
   "metadata": {},
   "source": [
    "Update dataframe with removed tags"
   ]
  },
  {
   "cell_type": "code",
   "execution_count": 31,
   "metadata": {},
   "outputs": [],
   "source": [
    "new_column_p = pd.Series(pop, name='popular_shelves', index=range(len(pop)))\n",
    "new_column_c = pd.Series(count, name='count_shelves', index=range(len(count)))\n",
    "\n",
    "df.update(new_column_p)\n",
    "df.update(new_column_c)"
   ]
  },
  {
   "cell_type": "markdown",
   "metadata": {},
   "source": [
    "Check the number of unique tags again"
   ]
  },
  {
   "cell_type": "code",
   "execution_count": 32,
   "metadata": {},
   "outputs": [
    {
     "data": {
      "text/plain": [
       "48653"
      ]
     },
     "execution_count": 32,
     "metadata": {},
     "output_type": "execute_result"
    }
   ],
   "source": [
    "alltags = [elm for book in df['popular_shelves'] for elm in book]\n",
    "len(set(alltags))"
   ]
  },
  {
   "cell_type": "code",
   "execution_count": 34,
   "metadata": {},
   "outputs": [],
   "source": [
    "#print(set(alltags))"
   ]
  },
  {
   "cell_type": "code",
   "execution_count": 36,
   "metadata": {},
   "outputs": [
    {
     "data": {
      "text/plain": [
       "0    [historical-fiction, mystery, historical-myste...\n",
       "1           [short-stories, fiction, french, français]\n",
       "2    [horror, stephen-king, fiction, sci-fi, scienc...\n",
       "3    [non-fiction, society, politics, history, econ...\n",
       "4    [young-adult, ya, paranormal, fantasy, romance...\n",
       "Name: popular_shelves, dtype: object"
      ]
     },
     "execution_count": 36,
     "metadata": {},
     "output_type": "execute_result"
    }
   ],
   "source": [
    "new_column_p[:5]"
   ]
  },
  {
   "cell_type": "code",
   "execution_count": 37,
   "metadata": {},
   "outputs": [
    {
     "data": {
      "text/plain": [
       "0                          [12, 11, 10, 7, 6, 5, 3, 3]\n",
       "1                                         [7, 3, 3, 3]\n",
       "2    [1526, 1108, 866, 317, 240, 231, 170, 160, 108...\n",
       "3                        [24, 10, 9, 8, 8, 7, 6, 4, 3]\n",
       "4    [101, 59, 58, 55, 35, 26, 25, 19, 16, 16, 14, ...\n",
       "Name: count_shelves, dtype: object"
      ]
     },
     "execution_count": 37,
     "metadata": {},
     "output_type": "execute_result"
    }
   ],
   "source": [
    "new_column_c[:5]"
   ]
  },
  {
   "cell_type": "code",
   "execution_count": 60,
   "metadata": {},
   "outputs": [
    {
     "data": {
      "text/plain": [
       "(8270328, 8270328)"
      ]
     },
     "execution_count": 60,
     "metadata": {},
     "output_type": "execute_result"
    }
   ],
   "source": [
    "p = [tag for elm in new_column_p for tag in elm]\n",
    "c = [int(tag) for elm in new_column_c for tag in elm]\n",
    "len(p), len(c)"
   ]
  },
  {
   "cell_type": "markdown",
   "metadata": {},
   "source": [
    "Extract each tag and the associated count to calculate some statistics and group them.\n",
    "Total number of tags (non unique) 8,270,328"
   ]
  },
  {
   "cell_type": "code",
   "execution_count": 61,
   "metadata": {},
   "outputs": [],
   "source": [
    "ps = pd.Series(p, name='popular_shelves', index=range(len(p)))\n",
    "cs = pd.Series(c, name='count_shelves', index=range(len(c)))\n",
    "\n",
    "tags = pd.concat([ps, cs], axis=1)"
   ]
  },
  {
   "cell_type": "code",
   "execution_count": 62,
   "metadata": {},
   "outputs": [
    {
     "data": {
      "text/html": [
       "<div>\n",
       "<style scoped>\n",
       "    .dataframe tbody tr th:only-of-type {\n",
       "        vertical-align: middle;\n",
       "    }\n",
       "\n",
       "    .dataframe tbody tr th {\n",
       "        vertical-align: top;\n",
       "    }\n",
       "\n",
       "    .dataframe thead th {\n",
       "        text-align: right;\n",
       "    }\n",
       "</style>\n",
       "<table border=\"1\" class=\"dataframe\">\n",
       "  <thead>\n",
       "    <tr style=\"text-align: right;\">\n",
       "      <th></th>\n",
       "      <th>popular_shelves</th>\n",
       "      <th>count_shelves</th>\n",
       "    </tr>\n",
       "  </thead>\n",
       "  <tbody>\n",
       "    <tr>\n",
       "      <th>0</th>\n",
       "      <td>historical-fiction</td>\n",
       "      <td>12</td>\n",
       "    </tr>\n",
       "    <tr>\n",
       "      <th>1</th>\n",
       "      <td>mystery</td>\n",
       "      <td>11</td>\n",
       "    </tr>\n",
       "    <tr>\n",
       "      <th>2</th>\n",
       "      <td>historical-mystery</td>\n",
       "      <td>10</td>\n",
       "    </tr>\n",
       "    <tr>\n",
       "      <th>3</th>\n",
       "      <td>medieval</td>\n",
       "      <td>7</td>\n",
       "    </tr>\n",
       "    <tr>\n",
       "      <th>4</th>\n",
       "      <td>historical</td>\n",
       "      <td>6</td>\n",
       "    </tr>\n",
       "  </tbody>\n",
       "</table>\n",
       "</div>"
      ],
      "text/plain": [
       "      popular_shelves  count_shelves\n",
       "0  historical-fiction             12\n",
       "1             mystery             11\n",
       "2  historical-mystery             10\n",
       "3            medieval              7\n",
       "4          historical              6"
      ]
     },
     "execution_count": 62,
     "metadata": {},
     "output_type": "execute_result"
    }
   ],
   "source": [
    "tags.head()"
   ]
  },
  {
   "cell_type": "code",
   "execution_count": 65,
   "metadata": {},
   "outputs": [],
   "source": [
    "new = tags.groupby('popular_shelves')['count_shelves'].sum().reset_index(name ='Total Counts')"
   ]
  },
  {
   "cell_type": "code",
   "execution_count": 66,
   "metadata": {},
   "outputs": [
    {
     "data": {
      "text/html": [
       "<div>\n",
       "<style scoped>\n",
       "    .dataframe tbody tr th:only-of-type {\n",
       "        vertical-align: middle;\n",
       "    }\n",
       "\n",
       "    .dataframe tbody tr th {\n",
       "        vertical-align: top;\n",
       "    }\n",
       "\n",
       "    .dataframe thead th {\n",
       "        text-align: right;\n",
       "    }\n",
       "</style>\n",
       "<table border=\"1\" class=\"dataframe\">\n",
       "  <thead>\n",
       "    <tr style=\"text-align: right;\">\n",
       "      <th></th>\n",
       "      <th>popular_shelves</th>\n",
       "      <th>Total Counts</th>\n",
       "    </tr>\n",
       "  </thead>\n",
       "  <tbody>\n",
       "    <tr>\n",
       "      <th>0</th>\n",
       "      <td>-calif--</td>\n",
       "      <td>324</td>\n",
       "    </tr>\n",
       "    <tr>\n",
       "      <th>1</th>\n",
       "      <td>-civilization-</td>\n",
       "      <td>16</td>\n",
       "    </tr>\n",
       "    <tr>\n",
       "      <th>2</th>\n",
       "      <td>-computers-</td>\n",
       "      <td>16</td>\n",
       "    </tr>\n",
       "    <tr>\n",
       "      <th>3</th>\n",
       "      <td>-conn--</td>\n",
       "      <td>32</td>\n",
       "    </tr>\n",
       "    <tr>\n",
       "      <th>4</th>\n",
       "      <td>-d-c--</td>\n",
       "      <td>174</td>\n",
       "    </tr>\n",
       "  </tbody>\n",
       "</table>\n",
       "</div>"
      ],
      "text/plain": [
       "  popular_shelves  Total Counts\n",
       "0        -calif--           324\n",
       "1  -civilization-            16\n",
       "2     -computers-            16\n",
       "3         -conn--            32\n",
       "4          -d-c--           174"
      ]
     },
     "execution_count": 66,
     "metadata": {},
     "output_type": "execute_result"
    }
   ],
   "source": [
    "new.head()"
   ]
  },
  {
   "cell_type": "code",
   "execution_count": 67,
   "metadata": {},
   "outputs": [],
   "source": [
    "new.sort_values(by=['Total Counts'], ascending=False, inplace=True)"
   ]
  },
  {
   "cell_type": "code",
   "execution_count": 69,
   "metadata": {},
   "outputs": [
    {
     "data": {
      "text/html": [
       "<div>\n",
       "<style scoped>\n",
       "    .dataframe tbody tr th:only-of-type {\n",
       "        vertical-align: middle;\n",
       "    }\n",
       "\n",
       "    .dataframe tbody tr th {\n",
       "        vertical-align: top;\n",
       "    }\n",
       "\n",
       "    .dataframe thead th {\n",
       "        text-align: right;\n",
       "    }\n",
       "</style>\n",
       "<table border=\"1\" class=\"dataframe\">\n",
       "  <thead>\n",
       "    <tr style=\"text-align: right;\">\n",
       "      <th></th>\n",
       "      <th>popular_shelves</th>\n",
       "      <th>Total Counts</th>\n",
       "    </tr>\n",
       "  </thead>\n",
       "  <tbody>\n",
       "    <tr>\n",
       "      <th>8881</th>\n",
       "      <td>classics</td>\n",
       "      <td>48239535</td>\n",
       "    </tr>\n",
       "    <tr>\n",
       "      <th>15554</th>\n",
       "      <td>fiction</td>\n",
       "      <td>47770426</td>\n",
       "    </tr>\n",
       "    <tr>\n",
       "      <th>15069</th>\n",
       "      <td>fantasy</td>\n",
       "      <td>21880760</td>\n",
       "    </tr>\n",
       "    <tr>\n",
       "      <th>37378</th>\n",
       "      <td>romance</td>\n",
       "      <td>13745490</td>\n",
       "    </tr>\n",
       "    <tr>\n",
       "      <th>30948</th>\n",
       "      <td>mystery</td>\n",
       "      <td>11678148</td>\n",
       "    </tr>\n",
       "    <tr>\n",
       "      <th>19821</th>\n",
       "      <td>historical-fiction</td>\n",
       "      <td>10584823</td>\n",
       "    </tr>\n",
       "    <tr>\n",
       "      <th>48389</th>\n",
       "      <td>young-adult</td>\n",
       "      <td>10162180</td>\n",
       "    </tr>\n",
       "    <tr>\n",
       "      <th>8825</th>\n",
       "      <td>classic</td>\n",
       "      <td>9563016</td>\n",
       "    </tr>\n",
       "    <tr>\n",
       "      <th>38739</th>\n",
       "      <td>science-fiction</td>\n",
       "      <td>8435301</td>\n",
       "    </tr>\n",
       "    <tr>\n",
       "      <th>32104</th>\n",
       "      <td>non-fiction</td>\n",
       "      <td>6557855</td>\n",
       "    </tr>\n",
       "    <tr>\n",
       "      <th>38671</th>\n",
       "      <td>sci-fi</td>\n",
       "      <td>6461150</td>\n",
       "    </tr>\n",
       "    <tr>\n",
       "      <th>26464</th>\n",
       "      <td>literature</td>\n",
       "      <td>6022416</td>\n",
       "    </tr>\n",
       "    <tr>\n",
       "      <th>20332</th>\n",
       "      <td>horror</td>\n",
       "      <td>6004364</td>\n",
       "    </tr>\n",
       "    <tr>\n",
       "      <th>39257</th>\n",
       "      <td>series</td>\n",
       "      <td>5367671</td>\n",
       "    </tr>\n",
       "    <tr>\n",
       "      <th>48196</th>\n",
       "      <td>ya</td>\n",
       "      <td>4991067</td>\n",
       "    </tr>\n",
       "  </tbody>\n",
       "</table>\n",
       "</div>"
      ],
      "text/plain": [
       "          popular_shelves  Total Counts\n",
       "8881             classics      48239535\n",
       "15554             fiction      47770426\n",
       "15069             fantasy      21880760\n",
       "37378             romance      13745490\n",
       "30948             mystery      11678148\n",
       "19821  historical-fiction      10584823\n",
       "48389         young-adult      10162180\n",
       "8825              classic       9563016\n",
       "38739     science-fiction       8435301\n",
       "32104         non-fiction       6557855\n",
       "38671              sci-fi       6461150\n",
       "26464          literature       6022416\n",
       "20332              horror       6004364\n",
       "39257              series       5367671\n",
       "48196                  ya       4991067"
      ]
     },
     "execution_count": 69,
     "metadata": {},
     "output_type": "execute_result"
    }
   ],
   "source": [
    "new.head(15)"
   ]
  },
  {
   "cell_type": "markdown",
   "metadata": {},
   "source": [
    "Merge some tags, such as classic and classics"
   ]
  },
  {
   "cell_type": "code",
   "execution_count": 85,
   "metadata": {},
   "outputs": [],
   "source": [
    "ps = pd.Series(p, name='popular_shelves', index=range(len(p))).str.replace('classics', 'classic', regex=True)\n",
    "ps1 = ps.str.replace('scifi', 'science-fiction', regex=True)\n",
    "ps2 = ps1.str.replace('sci-fi', 'science-fiction', regex=True)\n",
    "ps3 = ps2.str.replace('ya', 'young-adult', regex=True)\n",
    "\n",
    "tags = pd.concat([ps3, cs], axis=1)\n",
    "new = tags.groupby('popular_shelves')['count_shelves'].sum().reset_index(name ='Total Counts')\n",
    "new.sort_values(by=['Total Counts'], ascending=False, inplace=True)"
   ]
  },
  {
   "cell_type": "code",
   "execution_count": 86,
   "metadata": {},
   "outputs": [
    {
     "data": {
      "text/html": [
       "<div>\n",
       "<style scoped>\n",
       "    .dataframe tbody tr th:only-of-type {\n",
       "        vertical-align: middle;\n",
       "    }\n",
       "\n",
       "    .dataframe tbody tr th {\n",
       "        vertical-align: top;\n",
       "    }\n",
       "\n",
       "    .dataframe thead th {\n",
       "        text-align: right;\n",
       "    }\n",
       "</style>\n",
       "<table border=\"1\" class=\"dataframe\">\n",
       "  <thead>\n",
       "    <tr style=\"text-align: right;\">\n",
       "      <th></th>\n",
       "      <th>popular_shelves</th>\n",
       "      <th>Total Counts</th>\n",
       "    </tr>\n",
       "  </thead>\n",
       "  <tbody>\n",
       "    <tr>\n",
       "      <th>8819</th>\n",
       "      <td>classic</td>\n",
       "      <td>57802551</td>\n",
       "    </tr>\n",
       "  </tbody>\n",
       "</table>\n",
       "</div>"
      ],
      "text/plain": [
       "     popular_shelves  Total Counts\n",
       "8819         classic      57802551"
      ]
     },
     "execution_count": 86,
     "metadata": {},
     "output_type": "execute_result"
    }
   ],
   "source": [
    " new[new['popular_shelves'] == 'classic']"
   ]
  },
  {
   "cell_type": "code",
   "execution_count": 87,
   "metadata": {},
   "outputs": [
    {
     "data": {
      "text/plain": [
       "8270328"
      ]
     },
     "execution_count": 87,
     "metadata": {},
     "output_type": "execute_result"
    }
   ],
   "source": [
    "len(tags)"
   ]
  },
  {
   "cell_type": "code",
   "execution_count": 88,
   "metadata": {},
   "outputs": [
    {
     "data": {
      "text/plain": [
       "popular_shelves    classicfictionfantasyscience-fictionyoung-adul...\n",
       "Total Counts                                               444897848\n",
       "dtype: object"
      ]
     },
     "execution_count": 88,
     "metadata": {},
     "output_type": "execute_result"
    }
   ],
   "source": [
    "new.sum(axis = 0, skipna = True) "
   ]
  },
  {
   "cell_type": "markdown",
   "metadata": {},
   "source": [
    "Get ratio of each shelve"
   ]
  },
  {
   "cell_type": "code",
   "execution_count": 89,
   "metadata": {},
   "outputs": [],
   "source": [
    "new['Total Counts'] = new['Total Counts']/444897848"
   ]
  },
  {
   "cell_type": "code",
   "execution_count": 90,
   "metadata": {},
   "outputs": [
    {
     "data": {
      "text/html": [
       "<div>\n",
       "<style scoped>\n",
       "    .dataframe tbody tr th:only-of-type {\n",
       "        vertical-align: middle;\n",
       "    }\n",
       "\n",
       "    .dataframe tbody tr th {\n",
       "        vertical-align: top;\n",
       "    }\n",
       "\n",
       "    .dataframe thead th {\n",
       "        text-align: right;\n",
       "    }\n",
       "</style>\n",
       "<table border=\"1\" class=\"dataframe\">\n",
       "  <thead>\n",
       "    <tr style=\"text-align: right;\">\n",
       "      <th></th>\n",
       "      <th>popular_shelves</th>\n",
       "      <th>Total Counts</th>\n",
       "    </tr>\n",
       "  </thead>\n",
       "  <tbody>\n",
       "    <tr>\n",
       "      <th>8819</th>\n",
       "      <td>classic</td>\n",
       "      <td>0.129923</td>\n",
       "    </tr>\n",
       "    <tr>\n",
       "      <th>15529</th>\n",
       "      <td>fiction</td>\n",
       "      <td>0.107374</td>\n",
       "    </tr>\n",
       "    <tr>\n",
       "      <th>15051</th>\n",
       "      <td>fantasy</td>\n",
       "      <td>0.049182</td>\n",
       "    </tr>\n",
       "    <tr>\n",
       "      <th>38640</th>\n",
       "      <td>science-fiction</td>\n",
       "      <td>0.036436</td>\n",
       "    </tr>\n",
       "    <tr>\n",
       "      <th>48157</th>\n",
       "      <td>young-adult</td>\n",
       "      <td>0.034060</td>\n",
       "    </tr>\n",
       "    <tr>\n",
       "      <th>37324</th>\n",
       "      <td>romance</td>\n",
       "      <td>0.030896</td>\n",
       "    </tr>\n",
       "    <tr>\n",
       "      <th>30897</th>\n",
       "      <td>mystery</td>\n",
       "      <td>0.026249</td>\n",
       "    </tr>\n",
       "    <tr>\n",
       "      <th>19782</th>\n",
       "      <td>historical-fiction</td>\n",
       "      <td>0.023792</td>\n",
       "    </tr>\n",
       "    <tr>\n",
       "      <th>32052</th>\n",
       "      <td>non-fiction</td>\n",
       "      <td>0.014740</td>\n",
       "    </tr>\n",
       "    <tr>\n",
       "      <th>26424</th>\n",
       "      <td>literature</td>\n",
       "      <td>0.013537</td>\n",
       "    </tr>\n",
       "  </tbody>\n",
       "</table>\n",
       "</div>"
      ],
      "text/plain": [
       "          popular_shelves  Total Counts\n",
       "8819              classic      0.129923\n",
       "15529             fiction      0.107374\n",
       "15051             fantasy      0.049182\n",
       "38640     science-fiction      0.036436\n",
       "48157         young-adult      0.034060\n",
       "37324             romance      0.030896\n",
       "30897             mystery      0.026249\n",
       "19782  historical-fiction      0.023792\n",
       "32052         non-fiction      0.014740\n",
       "26424          literature      0.013537"
      ]
     },
     "execution_count": 90,
     "metadata": {},
     "output_type": "execute_result"
    }
   ],
   "source": [
    "new.head(10)"
   ]
  },
  {
   "cell_type": "code",
   "execution_count": 91,
   "metadata": {},
   "outputs": [
    {
     "data": {
      "text/plain": [
       "48534"
      ]
     },
     "execution_count": 91,
     "metadata": {},
     "output_type": "execute_result"
    }
   ],
   "source": [
    "len(new)"
   ]
  },
  {
   "cell_type": "code",
   "execution_count": 92,
   "metadata": {},
   "outputs": [],
   "source": [
    "new.to_csv('tags_unique_count.csv', index=False)"
   ]
  },
  {
   "cell_type": "code",
   "execution_count": 103,
   "metadata": {},
   "outputs": [
    {
     "data": {
      "text/plain": [
       "<matplotlib.axes._subplots.AxesSubplot at 0x1a9c5dc9b0>"
      ]
     },
     "execution_count": 103,
     "metadata": {},
     "output_type": "execute_result"
    },
    {
     "data": {
      "image/png": "[encoded data removed]",
      "text/plain": [
       "<Figure size 432x288 with 1 Axes>"
      ]
     },
     "metadata": {
      "needs_background": "light"
     },
     "output_type": "display_data"
    }
   ],
   "source": [
    "#new.iloc[:100, :].hist(cumulative=True)\n",
    "new.iloc[:100, :].plot.bar(x = 'popular_shelves', y = 'Total Counts', grid = True)"
   ]
  },
  {
   "cell_type": "code",
   "execution_count": 105,
   "metadata": {},
   "outputs": [],
   "source": [
    "new['cdf'] = new['Total Counts'].cumsum()"
   ]
  },
  {
   "cell_type": "code",
   "execution_count": 106,
   "metadata": {},
   "outputs": [
    {
     "data": {
      "text/html": [
       "<div>\n",
       "<style scoped>\n",
       "    .dataframe tbody tr th:only-of-type {\n",
       "        vertical-align: middle;\n",
       "    }\n",
       "\n",
       "    .dataframe tbody tr th {\n",
       "        vertical-align: top;\n",
       "    }\n",
       "\n",
       "    .dataframe thead th {\n",
       "        text-align: right;\n",
       "    }\n",
       "</style>\n",
       "<table border=\"1\" class=\"dataframe\">\n",
       "  <thead>\n",
       "    <tr style=\"text-align: right;\">\n",
       "      <th></th>\n",
       "      <th>popular_shelves</th>\n",
       "      <th>Total Counts</th>\n",
       "      <th>cdf</th>\n",
       "    </tr>\n",
       "  </thead>\n",
       "  <tbody>\n",
       "    <tr>\n",
       "      <th>8819</th>\n",
       "      <td>classic</td>\n",
       "      <td>0.129923</td>\n",
       "      <td>0.129923</td>\n",
       "    </tr>\n",
       "    <tr>\n",
       "      <th>15529</th>\n",
       "      <td>fiction</td>\n",
       "      <td>0.107374</td>\n",
       "      <td>0.237297</td>\n",
       "    </tr>\n",
       "    <tr>\n",
       "      <th>15051</th>\n",
       "      <td>fantasy</td>\n",
       "      <td>0.049182</td>\n",
       "      <td>0.286479</td>\n",
       "    </tr>\n",
       "    <tr>\n",
       "      <th>38640</th>\n",
       "      <td>science-fiction</td>\n",
       "      <td>0.036436</td>\n",
       "      <td>0.322915</td>\n",
       "    </tr>\n",
       "    <tr>\n",
       "      <th>48157</th>\n",
       "      <td>young-adult</td>\n",
       "      <td>0.034060</td>\n",
       "      <td>0.356975</td>\n",
       "    </tr>\n",
       "  </tbody>\n",
       "</table>\n",
       "</div>"
      ],
      "text/plain": [
       "       popular_shelves  Total Counts       cdf\n",
       "8819           classic      0.129923  0.129923\n",
       "15529          fiction      0.107374  0.237297\n",
       "15051          fantasy      0.049182  0.286479\n",
       "38640  science-fiction      0.036436  0.322915\n",
       "48157      young-adult      0.034060  0.356975"
      ]
     },
     "execution_count": 106,
     "metadata": {},
     "output_type": "execute_result"
    }
   ],
   "source": [
    "new.head()"
   ]
  },
  {
   "cell_type": "code",
   "execution_count": 111,
   "metadata": {},
   "outputs": [],
   "source": [
    "#new.iloc[:400, :].plot.bar(x = 'popular_shelves', y = 'cdf', grid = True)"
   ]
  },
  {
   "cell_type": "code",
   "execution_count": 109,
   "metadata": {},
   "outputs": [],
   "source": [
    "new.to_csv('tags_unique_count.csv', index=False)"
   ]
  },
  {
   "cell_type": "code",
   "execution_count": 113,
   "metadata": {},
   "outputs": [
    {
     "data": {
      "text/plain": [
       "332"
      ]
     },
     "execution_count": 113,
     "metadata": {},
     "output_type": "execute_result"
    }
   ],
   "source": [
    "len(new[new['cdf'] <= 0.9])"
   ]
  },
  {
   "cell_type": "code",
   "execution_count": 115,
   "metadata": {},
   "outputs": [
    {
     "data": {
      "text/plain": [
       "<matplotlib.axes._subplots.AxesSubplot at 0x1a8ecf3908>"
      ]
     },
     "execution_count": 115,
     "metadata": {},
     "output_type": "execute_result"
    },
    {
     "data": {
      "image/png": "[encoded data removed]",
      "text/plain": [
       "<Figure size 432x288 with 1 Axes>"
      ]
     },
     "metadata": {
      "needs_background": "light"
     },
     "output_type": "display_data"
    }
   ],
   "source": [
    "new.iloc[:333, :].plot.bar(x = 'popular_shelves', y = 'cdf', grid = False)"
   ]
  },
  {
   "cell_type": "code",
   "execution_count": 120,
   "metadata": {},
   "outputs": [],
   "source": [
    "selected_tags = new.iloc[:332, :]\n",
    "selected_tags.to_csv('selected_tags.csv', index=False)"
   ]
  },
  {
   "cell_type": "code",
   "execution_count": 121,
   "metadata": {},
   "outputs": [],
   "source": [
    "list_tags = selected_tags['popular_shelves'].to_list()"
   ]
  },
  {
   "cell_type": "code",
   "execution_count": 122,
   "metadata": {},
   "outputs": [
    {
     "data": {
      "text/plain": [
       "332"
      ]
     },
     "execution_count": 122,
     "metadata": {},
     "output_type": "execute_result"
    }
   ],
   "source": [
    "len(list_tags)"
   ]
  },
  {
   "cell_type": "markdown",
   "metadata": {},
   "source": [
    "At this point 332 shelves are selected, now only keep those in book dataframe."
   ]
  },
  {
   "cell_type": "code",
   "execution_count": 124,
   "metadata": {},
   "outputs": [],
   "source": [
    "def get_selected_tags(pops, cs, tags):\n",
    "    genreExceptions = [\n",
    "    'to-read', 'currently-reading', 'owned', 'default', 'favorites', 'books-i-own',\n",
    "    'ebook', 'kindle', 'library', 'audiobook', 'owned-books', 'audiobooks', 'my-books',\n",
    "    'ebooks', 'to-buy', 'english', 'calibre', 'books', 'british', 'audio', 'my-library',\n",
    "    'favourites', 're-read', 'general', 'e-books', 'ibooks', 'may-2017-dr-reads', 'favorite-authors',\n",
    "    'series-i-like', 'ebook-unread', 'wishlist', 'did-not-finish', 'a-wishlist', 'wish-list',\n",
    "    '-library-no-owned', '0-0-asap', '0-gu', '0-medieval-fiction', '0-owned', 'owned', '0-too-lazy-to-tag',\n",
    "    'owned-tbr', 'wishlist', 'a-wishlist', 'did-not-finish'\n",
    "    ]\n",
    "\n",
    "    popnew = []\n",
    "    cnew = []\n",
    "\n",
    "    for elm, elmc in zip(pops, cs):    \n",
    "        to_keep = []\n",
    "        for i in range(len(elm)):\n",
    "            if elm[i] in tags:\n",
    "                to_keep.append(i) \n",
    "        popnew.append([elm[e] for e in range(len(elm)) if e in to_keep])\n",
    "        cnew.append([elmc[e] for e in range(len(elmc)) if e in to_keep])\n",
    "    \n",
    "    return popnew, cnew\n",
    "\n"
   ]
  },
  {
   "cell_type": "code",
   "execution_count": 126,
   "metadata": {},
   "outputs": [],
   "source": [
    "pop, count = get_selected_tags(df['popular_shelves'], df['count_shelves'], list_tags)\n",
    "\n",
    "new_column_p = pd.Series(pop, name='popular_shelves', index=range(len(pop)))\n",
    "new_column_c = pd.Series(count, name='count_shelves', index=range(len(count)))"
   ]
  },
  {
   "cell_type": "code",
   "execution_count": 127,
   "metadata": {},
   "outputs": [],
   "source": [
    "df.update(new_column_p)\n",
    "df.update(new_column_c)"
   ]
  },
  {
   "cell_type": "code",
   "execution_count": 128,
   "metadata": {},
   "outputs": [
    {
     "data": {
      "text/html": [
       "<div>\n",
       "<style scoped>\n",
       "    .dataframe tbody tr th:only-of-type {\n",
       "        vertical-align: middle;\n",
       "    }\n",
       "\n",
       "    .dataframe tbody tr th {\n",
       "        vertical-align: top;\n",
       "    }\n",
       "\n",
       "    .dataframe thead th {\n",
       "        text-align: right;\n",
       "    }\n",
       "</style>\n",
       "<table border=\"1\" class=\"dataframe\">\n",
       "  <thead>\n",
       "    <tr style=\"text-align: right;\">\n",
       "      <th></th>\n",
       "      <th>average_rating</th>\n",
       "      <th>book_id</th>\n",
       "      <th>count_shelves</th>\n",
       "      <th>isbn</th>\n",
       "      <th>popular_shelves</th>\n",
       "      <th>title</th>\n",
       "    </tr>\n",
       "  </thead>\n",
       "  <tbody>\n",
       "    <tr>\n",
       "      <th>0</th>\n",
       "      <td>3.93</td>\n",
       "      <td>6066814</td>\n",
       "      <td>[12, 11, 10, 7, 6, 5, 3, 3]</td>\n",
       "      <td>184737297X</td>\n",
       "      <td>[historical-fiction, mystery, historical-myste...</td>\n",
       "      <td>Crowner Royal (Crowner John Mystery, #13)</td>\n",
       "    </tr>\n",
       "    <tr>\n",
       "      <th>1</th>\n",
       "      <td>3.65</td>\n",
       "      <td>2008911</td>\n",
       "      <td>[7, 3, 3]</td>\n",
       "      <td>0440083087</td>\n",
       "      <td>[short-stories, fiction, french]</td>\n",
       "      <td>Silken Eyes</td>\n",
       "    </tr>\n",
       "    <tr>\n",
       "      <th>2</th>\n",
       "      <td>3.48</td>\n",
       "      <td>7203847</td>\n",
       "      <td>[1526, 1108, 866, 240, 231, 170, 160, 108, 99,...</td>\n",
       "      <td>0142427896</td>\n",
       "      <td>[horror, stephen-king, fiction, science-fictio...</td>\n",
       "      <td>The Tommyknockers</td>\n",
       "    </tr>\n",
       "    <tr>\n",
       "      <th>3</th>\n",
       "      <td>3.75</td>\n",
       "      <td>6158967</td>\n",
       "      <td>[24, 9, 8, 8, 7]</td>\n",
       "      <td>1400041694</td>\n",
       "      <td>[non-fiction, politics, history, economics, no...</td>\n",
       "      <td>Crude World: The Violent Twilight of Oil</td>\n",
       "    </tr>\n",
       "    <tr>\n",
       "      <th>4</th>\n",
       "      <td>4.04</td>\n",
       "      <td>12182387</td>\n",
       "      <td>[101, 58, 55, 35, 26, 25, 19, 16, 14, 11, 9, 6...</td>\n",
       "      <td></td>\n",
       "      <td>[young-adult, paranormal, fantasy, romance, ur...</td>\n",
       "      <td>The Passion (Dark Visions, #3)</td>\n",
       "    </tr>\n",
       "  </tbody>\n",
       "</table>\n",
       "</div>"
      ],
      "text/plain": [
       "  average_rating   book_id                                      count_shelves  \\\n",
       "0           3.93   6066814                        [12, 11, 10, 7, 6, 5, 3, 3]   \n",
       "1           3.65   2008911                                          [7, 3, 3]   \n",
       "2           3.48   7203847  [1526, 1108, 866, 240, 231, 170, 160, 108, 99,...   \n",
       "3           3.75   6158967                                   [24, 9, 8, 8, 7]   \n",
       "4           4.04  12182387  [101, 58, 55, 35, 26, 25, 19, 16, 14, 11, 9, 6...   \n",
       "\n",
       "         isbn                                    popular_shelves  \\\n",
       "0  184737297X  [historical-fiction, mystery, historical-myste...   \n",
       "1  0440083087                   [short-stories, fiction, french]   \n",
       "2  0142427896  [horror, stephen-king, fiction, science-fictio...   \n",
       "3  1400041694  [non-fiction, politics, history, economics, no...   \n",
       "4              [young-adult, paranormal, fantasy, romance, ur...   \n",
       "\n",
       "                                       title  \n",
       "0  Crowner Royal (Crowner John Mystery, #13)  \n",
       "1                                Silken Eyes  \n",
       "2                          The Tommyknockers  \n",
       "3   Crude World: The Violent Twilight of Oil  \n",
       "4             The Passion (Dark Visions, #3)  "
      ]
     },
     "execution_count": 128,
     "metadata": {},
     "output_type": "execute_result"
    }
   ],
   "source": [
    "df.head()"
   ]
  },
  {
   "cell_type": "code",
   "execution_count": 129,
   "metadata": {},
   "outputs": [],
   "source": [
    "df.to_csv('books_tags332.csv', index=False)"
   ]
  }
 ],
 "metadata": {
  "kernelspec": {
   "display_name": "Python 3",
   "language": "python",
   "name": "python3"
  },
  "language_info": {
   "codemirror_mode": {
    "name": "ipython",
    "version": 3
   },
   "file_extension": ".py",
   "mimetype": "text/x-python",
   "name": "python",
   "nbconvert_exporter": "python",
   "pygments_lexer": "ipython3",
   "version": "3.7.3"
  }
 },
 "nbformat": 4,
 "nbformat_minor": 2
}
