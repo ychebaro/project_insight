{
 "cells": [
  {
   "cell_type": "markdown",
   "metadata": {},
   "source": [
    "## Getting one example of a preferred book per user\n",
    "\n",
    "The data is extracted from the user/book rating matrix.\n",
    "All books rated 4 and higher (the maximum is 5 according to the goodreads scale) and queried for each user, and one is picked randomly.\n",
    "The output is a csv file with user_id, book_id and the name of the book"
   ]
  },
  {
   "cell_type": "code",
   "execution_count": null,
   "metadata": {},
   "outputs": [],
   "source": [
    "# Import Libraries\n",
    "import pandas as pd\n",
    "import matplotlib.pyplot as plt\n",
    "import numpy as np\n",
    "import random\n",
    "from collections import Counter\n",
    "%matplotlib inline"
   ]
  },
  {
   "cell_type": "code",
   "execution_count": null,
   "metadata": {},
   "outputs": [],
   "source": [
    "def get_random_good_book(df):\n",
    "    \"\"\" Pick one random liked book per user\n",
    "\n",
    "    Args:\n",
    "        df_ratings (:obj:`DataFrame`): pandas DataFrame of user books ratings\n",
    "    Returns:\n",
    "        :obj:`user_gb`: dictionnary of random book per user\n",
    "    \"\"\"    \n",
    "    user_gb = {}\n",
    "    for i in range(df.shape[0]):\n",
    "        choice = random.choice(df.iloc[i][1])\n",
    "        user_gb[df.iloc[i][0]] = random.choice(df.iloc[i][1])\n",
    "    return user_gb"
   ]
  },
  {
   "cell_type": "code",
   "execution_count": 3,
   "metadata": {},
   "outputs": [],
   "source": [
    "# Read in data of users ratings and book id\n",
    "user_all = pd.read_csv('user_id_rating_book_all.csv')\n",
    "\n",
    "# Extract books with high ratings\n",
    "max_ratings = user_all[user_all['rating'] >= 4]\n",
    "# Group by user id and add column list_books_4\n",
    "test = max_ratings.groupby('user_id')['book_id_gr'].apply(list).reset_index(name='list_books_4')"
   ]
  },
  {
   "cell_type": "code",
   "execution_count": 5,
   "metadata": {},
   "outputs": [],
   "source": [
    "# Get the random (good) book and create new DataFrame\n",
    "user_gb = get_random_good_book(test)\n",
    "df_user_gb = pd.DataFrame(list(zip(list(user_gb.keys()), list(user_gb.values()))), columns=['user_id', 'book_id'])"
   ]
  },
  {
   "cell_type": "code",
   "execution_count": 6,
   "metadata": {},
   "outputs": [],
   "source": [
    "# Combine book id with title \n",
    "bookssf = pd.read_csv('books-scifi-authors.csv')\n",
    "user_book_title = bookssf[bookssf['book_id'].isin(list(user_gb.values()))]\n",
    "user_book = user_book_title.drop(user_book_title.columns[[0, 1, 3, 4, 5, 6, 7, 8]], axis=1)\n",
    "\n",
    "u_b = pd.merge(df_user_gb, user_book, on='book_id')"
   ]
  },
  {
   "cell_type": "code",
   "execution_count": 7,
   "metadata": {},
   "outputs": [
    {
     "data": {
      "text/html": [
       "<div>\n",
       "<style scoped>\n",
       "    .dataframe tbody tr th:only-of-type {\n",
       "        vertical-align: middle;\n",
       "    }\n",
       "\n",
       "    .dataframe tbody tr th {\n",
       "        vertical-align: top;\n",
       "    }\n",
       "\n",
       "    .dataframe thead th {\n",
       "        text-align: right;\n",
       "    }\n",
       "</style>\n",
       "<table border=\"1\" class=\"dataframe\">\n",
       "  <thead>\n",
       "    <tr style=\"text-align: right;\">\n",
       "      <th></th>\n",
       "      <th>user_id</th>\n",
       "      <th>book_id</th>\n",
       "      <th>title</th>\n",
       "    </tr>\n",
       "  </thead>\n",
       "  <tbody>\n",
       "    <tr>\n",
       "      <th>0</th>\n",
       "      <td>1073</td>\n",
       "      <td>9623</td>\n",
       "      <td>Dandelion Wine</td>\n",
       "    </tr>\n",
       "    <tr>\n",
       "      <th>1</th>\n",
       "      <td>1272</td>\n",
       "      <td>5863651</td>\n",
       "      <td>Blood of Ambrose (Morlock Ambrosius, #1)</td>\n",
       "    </tr>\n",
       "    <tr>\n",
       "      <th>2</th>\n",
       "      <td>1440</td>\n",
       "      <td>92769</td>\n",
       "      <td>Heir of Sea and Fire (Riddle-Master, #2)</td>\n",
       "    </tr>\n",
       "    <tr>\n",
       "      <th>3</th>\n",
       "      <td>125382</td>\n",
       "      <td>92769</td>\n",
       "      <td>Heir of Sea and Fire (Riddle-Master, #2)</td>\n",
       "    </tr>\n",
       "    <tr>\n",
       "      <th>4</th>\n",
       "      <td>1639</td>\n",
       "      <td>3852641</td>\n",
       "      <td>Little Brother (Little Brother, #1)</td>\n",
       "    </tr>\n",
       "  </tbody>\n",
       "</table>\n",
       "</div>"
      ],
      "text/plain": [
       "   user_id  book_id                                     title\n",
       "0     1073     9623                            Dandelion Wine\n",
       "1     1272  5863651  Blood of Ambrose (Morlock Ambrosius, #1)\n",
       "2     1440    92769  Heir of Sea and Fire (Riddle-Master, #2)\n",
       "3   125382    92769  Heir of Sea and Fire (Riddle-Master, #2)\n",
       "4     1639  3852641       Little Brother (Little Brother, #1)"
      ]
     },
     "execution_count": 7,
     "metadata": {},
     "output_type": "execute_result"
    }
   ],
   "source": [
    "u_b.head(5)"
   ]
  },
  {
   "cell_type": "code",
   "execution_count": 100,
   "metadata": {},
   "outputs": [],
   "source": [
    "u_b.to_csv('user_book_fav.csv', index=False)"
   ]
  }
 ],
 "metadata": {
  "kernelspec": {
   "display_name": "Python 3",
   "language": "python",
   "name": "python3"
  },
  "language_info": {
   "codemirror_mode": {
    "name": "ipython",
    "version": 3
   },
   "file_extension": ".py",
   "mimetype": "text/x-python",
   "name": "python",
   "nbconvert_exporter": "python",
   "pygments_lexer": "ipython3",
   "version": "3.7.3"
  }
 },
 "nbformat": 4,
 "nbformat_minor": 2
}
