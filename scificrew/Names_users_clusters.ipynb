{
 "cells": [
  {
   "cell_type": "markdown",
   "metadata": {},
   "source": [
    "## Assigning first names for users in each cluster\n",
    "\n",
    "GoodReads user information is inaccessible for privacy issues it seems, and unavailable through their API unless users allow it. To have a simpler and nicer output for the users clusters, I assigned a first name to each users in each cluster from the final clustering.\n",
    "\n",
    "The first names are selected from the 2019 Insight DS cohorts in NYC, LA and Seattle :)"
   ]
  },
  {
   "cell_type": "code",
   "execution_count": 1,
   "metadata": {},
   "outputs": [],
   "source": [
    "# Import Libraries\n",
    "import pandas as pd\n",
    "import matplotlib.pyplot as plt\n",
    "import numpy as np\n",
    "import random\n",
    "from collections import Counter"
   ]
  },
  {
   "cell_type": "code",
   "execution_count": 2,
   "metadata": {},
   "outputs": [],
   "source": [
    "# open clusters and names csv files\n",
    "clusters = pd.read_csv('clusters_final.csv')\n",
    "names = np.genfromtxt('names_64.csv', dtype='str')"
   ]
  },
  {
   "cell_type": "code",
   "execution_count": 3,
   "metadata": {},
   "outputs": [],
   "source": [
    "def get_names_clust(dfin, names):\n",
    "    \"\"\" Assignes names for each user in each clusters,\n",
    "    a name is picked randomly from the list\n",
    "    Args:\n",
    "        dfin (:obj:`DataFrame`): pandas DataFrame of users clusters\n",
    "        names (:obj:`str`): list of first names from Insight DS cohors\n",
    "    Returns:\n",
    "        :obj:`df`: pandas DataFrame with group id and associated name\n",
    "    \"\"\"\n",
    "    # get the unique group numbers\n",
    "    list_groups = list(set(dfin['group']))\n",
    "    \n",
    "    # get a list of dict where key is the group id and value is the name\n",
    "    all_users_names = []\n",
    "    for group_id in list_groups:\n",
    "        group = dfin[dfin['group'] == group_id]\n",
    "        names_group = random.sample(set(names), len(group))\n",
    "        for name in names_group:\n",
    "            users_names = {}\n",
    "            users_names['group'] = group_id\n",
    "            users_names['names'] = name\n",
    "            all_users_names.append(users_names)\n",
    "    \n",
    "    # dict to DataFrame\n",
    "    df_users_names = pd.DataFrame(all_users_names)\n",
    "    return df_users_names"
   ]
  },
  {
   "cell_type": "code",
   "execution_count": 4,
   "metadata": {},
   "outputs": [],
   "source": [
    "# get the list of [group_id, user_name] dict\n",
    "names_clusters = get_names_clust(clusters, names)\n",
    "\n",
    "# merge dataframes on index (otherwise the user_idx will be repeated)\n",
    "names_users_clusters = pd.merge(clusters, names_clusters, left_index=True, right_index=True)\n",
    "\n",
    "# refurbish dataframe\n",
    "names_users_clusters.drop('group_y', axis=1, inplace=True)\n",
    "\n",
    "# rename group column name\n",
    "names_users_clusters.columns = ['user_idx', 'group', 'names'] \n",
    "\n",
    "# export to csv\n",
    "names_users_clusters.to_csv('clusters_group_names.csv', index=False)"
   ]
  }
 ],
 "metadata": {
  "kernelspec": {
   "display_name": "Python 3",
   "language": "python",
   "name": "python3"
  },
  "language_info": {
   "codemirror_mode": {
    "name": "ipython",
    "version": 3
   },
   "file_extension": ".py",
   "mimetype": "text/x-python",
   "name": "python",
   "nbconvert_exporter": "python",
   "pygments_lexer": "ipython3",
   "version": "3.7.3"
  }
 },
 "nbformat": 4,
 "nbformat_minor": 2
}
