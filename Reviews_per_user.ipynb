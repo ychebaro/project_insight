{
 "cells": [
  {
   "cell_type": "code",
   "execution_count": 32,
   "metadata": {},
   "outputs": [],
   "source": [
    "# Import Libraries\n",
    "import pandas as pd\n",
    "import matplotlib.pyplot as plt\n",
    "import numpy as np\n",
    "from scipy.sparse import csr_matrix\n",
    "import gzip\n",
    "import json\n",
    "from mpl_toolkits.axes_grid1 import make_axes_locatable\n",
    "from sklearn.cluster import KMeans\n",
    "from sklearn.metrics import mean_squared_error\n",
    "import itertools\n",
    "from vaderSentiment.vaderSentiment import SentimentIntensityAnalyzer\n",
    "from collections import Counter, defaultdict\n",
    "%matplotlib inline"
   ]
  },
  {
   "cell_type": "code",
   "execution_count": 2,
   "metadata": {},
   "outputs": [],
   "source": [
    "user_clustid = pd.read_csv('user_clustid_k25.csv')\n",
    "ratings_books = pd.read_csv('ratings_books_u80_b10.csv')\n",
    "usermap = pd.read_csv('user_id_map.csv')"
   ]
  },
  {
   "cell_type": "code",
   "execution_count": 3,
   "metadata": {},
   "outputs": [
    {
     "data": {
      "text/html": [
       "<div>\n",
       "<style scoped>\n",
       "    .dataframe tbody tr th:only-of-type {\n",
       "        vertical-align: middle;\n",
       "    }\n",
       "\n",
       "    .dataframe tbody tr th {\n",
       "        vertical-align: top;\n",
       "    }\n",
       "\n",
       "    .dataframe thead th {\n",
       "        text-align: right;\n",
       "    }\n",
       "</style>\n",
       "<table border=\"1\" class=\"dataframe\">\n",
       "  <thead>\n",
       "    <tr style=\"text-align: right;\">\n",
       "      <th></th>\n",
       "      <th>user_id</th>\n",
       "      <th>is_read</th>\n",
       "      <th>rating</th>\n",
       "      <th>is_reviewed</th>\n",
       "      <th>book_id_gr</th>\n",
       "      <th>user_counts</th>\n",
       "      <th>book_counts</th>\n",
       "      <th>user_idx</th>\n",
       "      <th>book_idx</th>\n",
       "    </tr>\n",
       "  </thead>\n",
       "  <tbody>\n",
       "    <tr>\n",
       "      <th>0</th>\n",
       "      <td>1073</td>\n",
       "      <td>1</td>\n",
       "      <td>3</td>\n",
       "      <td>1</td>\n",
       "      <td>47970</td>\n",
       "      <td>146</td>\n",
       "      <td>157</td>\n",
       "      <td>0</td>\n",
       "      <td>624</td>\n",
       "    </tr>\n",
       "    <tr>\n",
       "      <th>1</th>\n",
       "      <td>1073</td>\n",
       "      <td>1</td>\n",
       "      <td>4</td>\n",
       "      <td>1</td>\n",
       "      <td>304687</td>\n",
       "      <td>146</td>\n",
       "      <td>49</td>\n",
       "      <td>0</td>\n",
       "      <td>1867</td>\n",
       "    </tr>\n",
       "    <tr>\n",
       "      <th>2</th>\n",
       "      <td>1073</td>\n",
       "      <td>1</td>\n",
       "      <td>3</td>\n",
       "      <td>1</td>\n",
       "      <td>149267</td>\n",
       "      <td>146</td>\n",
       "      <td>1954</td>\n",
       "      <td>0</td>\n",
       "      <td>1322</td>\n",
       "    </tr>\n",
       "    <tr>\n",
       "      <th>3</th>\n",
       "      <td>1073</td>\n",
       "      <td>1</td>\n",
       "      <td>3</td>\n",
       "      <td>1</td>\n",
       "      <td>140098</td>\n",
       "      <td>146</td>\n",
       "      <td>136</td>\n",
       "      <td>0</td>\n",
       "      <td>1276</td>\n",
       "    </tr>\n",
       "    <tr>\n",
       "      <th>4</th>\n",
       "      <td>1073</td>\n",
       "      <td>1</td>\n",
       "      <td>3</td>\n",
       "      <td>1</td>\n",
       "      <td>1773616</td>\n",
       "      <td>146</td>\n",
       "      <td>71</td>\n",
       "      <td>0</td>\n",
       "      <td>3473</td>\n",
       "    </tr>\n",
       "  </tbody>\n",
       "</table>\n",
       "</div>"
      ],
      "text/plain": [
       "   user_id  is_read  rating  is_reviewed  book_id_gr  user_counts  \\\n",
       "0     1073        1       3            1       47970          146   \n",
       "1     1073        1       4            1      304687          146   \n",
       "2     1073        1       3            1      149267          146   \n",
       "3     1073        1       3            1      140098          146   \n",
       "4     1073        1       3            1     1773616          146   \n",
       "\n",
       "   book_counts  user_idx  book_idx  \n",
       "0          157         0       624  \n",
       "1           49         0      1867  \n",
       "2         1954         0      1322  \n",
       "3          136         0      1276  \n",
       "4           71         0      3473  "
      ]
     },
     "execution_count": 3,
     "metadata": {},
     "output_type": "execute_result"
    }
   ],
   "source": [
    "ratings_books.head(5)"
   ]
  },
  {
   "cell_type": "code",
   "execution_count": 4,
   "metadata": {},
   "outputs": [
    {
     "data": {
      "text/plain": [
       "787"
      ]
     },
     "execution_count": 4,
     "metadata": {},
     "output_type": "execute_result"
    }
   ],
   "source": [
    "len(set(ratings_books['user_id']))"
   ]
  },
  {
   "cell_type": "code",
   "execution_count": 33,
   "metadata": {},
   "outputs": [],
   "source": [
    "#set(ratings_books['user_id'])"
   ]
  },
  {
   "cell_type": "code",
   "execution_count": 5,
   "metadata": {},
   "outputs": [
    {
     "data": {
      "text/html": [
       "<div>\n",
       "<style scoped>\n",
       "    .dataframe tbody tr th:only-of-type {\n",
       "        vertical-align: middle;\n",
       "    }\n",
       "\n",
       "    .dataframe tbody tr th {\n",
       "        vertical-align: top;\n",
       "    }\n",
       "\n",
       "    .dataframe thead th {\n",
       "        text-align: right;\n",
       "    }\n",
       "</style>\n",
       "<table border=\"1\" class=\"dataframe\">\n",
       "  <thead>\n",
       "    <tr style=\"text-align: right;\">\n",
       "      <th></th>\n",
       "      <th>user_id_csv</th>\n",
       "      <th>user_id</th>\n",
       "    </tr>\n",
       "  </thead>\n",
       "  <tbody>\n",
       "    <tr>\n",
       "      <th>0</th>\n",
       "      <td>0</td>\n",
       "      <td>8842281e1d1347389f2ab93d60773d4d</td>\n",
       "    </tr>\n",
       "    <tr>\n",
       "      <th>1</th>\n",
       "      <td>1</td>\n",
       "      <td>72fb0d0087d28c832f15776b0d936598</td>\n",
       "    </tr>\n",
       "    <tr>\n",
       "      <th>2</th>\n",
       "      <td>2</td>\n",
       "      <td>ab2923b738ea3082f5f3efcbbfacb218</td>\n",
       "    </tr>\n",
       "    <tr>\n",
       "      <th>3</th>\n",
       "      <td>3</td>\n",
       "      <td>d986f354a045ffb91234e4af4d1b12fd</td>\n",
       "    </tr>\n",
       "  </tbody>\n",
       "</table>\n",
       "</div>"
      ],
      "text/plain": [
       "   user_id_csv                           user_id\n",
       "0            0  8842281e1d1347389f2ab93d60773d4d\n",
       "1            1  72fb0d0087d28c832f15776b0d936598\n",
       "2            2  ab2923b738ea3082f5f3efcbbfacb218\n",
       "3            3  d986f354a045ffb91234e4af4d1b12fd"
      ]
     },
     "execution_count": 5,
     "metadata": {},
     "output_type": "execute_result"
    }
   ],
   "source": [
    "usermap.head(4)"
   ]
  },
  {
   "cell_type": "code",
   "execution_count": 6,
   "metadata": {},
   "outputs": [],
   "source": [
    "user_dict = usermap.set_index('user_id_csv').T.to_dict('list')\n",
    "ratings_books['user_id_gr'] = ratings_books['user_id'].map(user_dict)"
   ]
  },
  {
   "cell_type": "code",
   "execution_count": 7,
   "metadata": {},
   "outputs": [
    {
     "data": {
      "text/html": [
       "<div>\n",
       "<style scoped>\n",
       "    .dataframe tbody tr th:only-of-type {\n",
       "        vertical-align: middle;\n",
       "    }\n",
       "\n",
       "    .dataframe tbody tr th {\n",
       "        vertical-align: top;\n",
       "    }\n",
       "\n",
       "    .dataframe thead th {\n",
       "        text-align: right;\n",
       "    }\n",
       "</style>\n",
       "<table border=\"1\" class=\"dataframe\">\n",
       "  <thead>\n",
       "    <tr style=\"text-align: right;\">\n",
       "      <th></th>\n",
       "      <th>user_id_csv</th>\n",
       "      <th>user_id</th>\n",
       "    </tr>\n",
       "  </thead>\n",
       "  <tbody>\n",
       "    <tr>\n",
       "      <th>1272</th>\n",
       "      <td>1272</td>\n",
       "      <td>8bf745a1e2b3ec721ad079990111f114</td>\n",
       "    </tr>\n",
       "  </tbody>\n",
       "</table>\n",
       "</div>"
      ],
      "text/plain": [
       "      user_id_csv                           user_id\n",
       "1272         1272  8bf745a1e2b3ec721ad079990111f114"
      ]
     },
     "execution_count": 7,
     "metadata": {},
     "output_type": "execute_result"
    }
   ],
   "source": [
    "usermap[usermap['user_id_csv'] == 1272]"
   ]
  },
  {
   "cell_type": "code",
   "execution_count": 8,
   "metadata": {},
   "outputs": [],
   "source": [
    "ratings_books['user_id_gr'] = ratings_books['user_id_gr'].str.get(0)"
   ]
  },
  {
   "cell_type": "code",
   "execution_count": 29,
   "metadata": {},
   "outputs": [],
   "source": [
    "# ratings_books[ratings_books['user_id'] == 1272]"
   ]
  },
  {
   "cell_type": "code",
   "execution_count": 9,
   "metadata": {},
   "outputs": [
    {
     "data": {
      "text/html": [
       "<div>\n",
       "<style scoped>\n",
       "    .dataframe tbody tr th:only-of-type {\n",
       "        vertical-align: middle;\n",
       "    }\n",
       "\n",
       "    .dataframe tbody tr th {\n",
       "        vertical-align: top;\n",
       "    }\n",
       "\n",
       "    .dataframe thead th {\n",
       "        text-align: right;\n",
       "    }\n",
       "</style>\n",
       "<table border=\"1\" class=\"dataframe\">\n",
       "  <thead>\n",
       "    <tr style=\"text-align: right;\">\n",
       "      <th></th>\n",
       "      <th>user_id</th>\n",
       "      <th>is_read</th>\n",
       "      <th>rating</th>\n",
       "      <th>is_reviewed</th>\n",
       "      <th>book_id_gr</th>\n",
       "      <th>user_counts</th>\n",
       "      <th>book_counts</th>\n",
       "      <th>user_idx</th>\n",
       "      <th>book_idx</th>\n",
       "      <th>user_id_gr</th>\n",
       "    </tr>\n",
       "  </thead>\n",
       "  <tbody>\n",
       "    <tr>\n",
       "      <th>0</th>\n",
       "      <td>1073</td>\n",
       "      <td>1</td>\n",
       "      <td>3</td>\n",
       "      <td>1</td>\n",
       "      <td>47970</td>\n",
       "      <td>146</td>\n",
       "      <td>157</td>\n",
       "      <td>0</td>\n",
       "      <td>624</td>\n",
       "      <td>b5f937e40b9cb0e2eecb4ba2365e2019</td>\n",
       "    </tr>\n",
       "    <tr>\n",
       "      <th>1</th>\n",
       "      <td>1073</td>\n",
       "      <td>1</td>\n",
       "      <td>4</td>\n",
       "      <td>1</td>\n",
       "      <td>304687</td>\n",
       "      <td>146</td>\n",
       "      <td>49</td>\n",
       "      <td>0</td>\n",
       "      <td>1867</td>\n",
       "      <td>b5f937e40b9cb0e2eecb4ba2365e2019</td>\n",
       "    </tr>\n",
       "    <tr>\n",
       "      <th>2</th>\n",
       "      <td>1073</td>\n",
       "      <td>1</td>\n",
       "      <td>3</td>\n",
       "      <td>1</td>\n",
       "      <td>149267</td>\n",
       "      <td>146</td>\n",
       "      <td>1954</td>\n",
       "      <td>0</td>\n",
       "      <td>1322</td>\n",
       "      <td>b5f937e40b9cb0e2eecb4ba2365e2019</td>\n",
       "    </tr>\n",
       "    <tr>\n",
       "      <th>3</th>\n",
       "      <td>1073</td>\n",
       "      <td>1</td>\n",
       "      <td>3</td>\n",
       "      <td>1</td>\n",
       "      <td>140098</td>\n",
       "      <td>146</td>\n",
       "      <td>136</td>\n",
       "      <td>0</td>\n",
       "      <td>1276</td>\n",
       "      <td>b5f937e40b9cb0e2eecb4ba2365e2019</td>\n",
       "    </tr>\n",
       "    <tr>\n",
       "      <th>4</th>\n",
       "      <td>1073</td>\n",
       "      <td>1</td>\n",
       "      <td>3</td>\n",
       "      <td>1</td>\n",
       "      <td>1773616</td>\n",
       "      <td>146</td>\n",
       "      <td>71</td>\n",
       "      <td>0</td>\n",
       "      <td>3473</td>\n",
       "      <td>b5f937e40b9cb0e2eecb4ba2365e2019</td>\n",
       "    </tr>\n",
       "  </tbody>\n",
       "</table>\n",
       "</div>"
      ],
      "text/plain": [
       "   user_id  is_read  rating  is_reviewed  book_id_gr  user_counts  \\\n",
       "0     1073        1       3            1       47970          146   \n",
       "1     1073        1       4            1      304687          146   \n",
       "2     1073        1       3            1      149267          146   \n",
       "3     1073        1       3            1      140098          146   \n",
       "4     1073        1       3            1     1773616          146   \n",
       "\n",
       "   book_counts  user_idx  book_idx                        user_id_gr  \n",
       "0          157         0       624  b5f937e40b9cb0e2eecb4ba2365e2019  \n",
       "1           49         0      1867  b5f937e40b9cb0e2eecb4ba2365e2019  \n",
       "2         1954         0      1322  b5f937e40b9cb0e2eecb4ba2365e2019  \n",
       "3          136         0      1276  b5f937e40b9cb0e2eecb4ba2365e2019  \n",
       "4           71         0      3473  b5f937e40b9cb0e2eecb4ba2365e2019  "
      ]
     },
     "execution_count": 9,
     "metadata": {},
     "output_type": "execute_result"
    }
   ],
   "source": [
    "ratings_books.head(5)"
   ]
  },
  {
   "cell_type": "code",
   "execution_count": 10,
   "metadata": {},
   "outputs": [],
   "source": [
    "idx_idgr = ratings_books.drop(ratings_books.columns[[1, 2, 3, 5, 6]], axis=1)"
   ]
  },
  {
   "cell_type": "code",
   "execution_count": 11,
   "metadata": {},
   "outputs": [
    {
     "data": {
      "text/html": [
       "<div>\n",
       "<style scoped>\n",
       "    .dataframe tbody tr th:only-of-type {\n",
       "        vertical-align: middle;\n",
       "    }\n",
       "\n",
       "    .dataframe tbody tr th {\n",
       "        vertical-align: top;\n",
       "    }\n",
       "\n",
       "    .dataframe thead th {\n",
       "        text-align: right;\n",
       "    }\n",
       "</style>\n",
       "<table border=\"1\" class=\"dataframe\">\n",
       "  <thead>\n",
       "    <tr style=\"text-align: right;\">\n",
       "      <th></th>\n",
       "      <th>user_id</th>\n",
       "      <th>book_id_gr</th>\n",
       "      <th>user_idx</th>\n",
       "      <th>book_idx</th>\n",
       "      <th>user_id_gr</th>\n",
       "    </tr>\n",
       "  </thead>\n",
       "  <tbody>\n",
       "    <tr>\n",
       "      <th>0</th>\n",
       "      <td>1073</td>\n",
       "      <td>47970</td>\n",
       "      <td>0</td>\n",
       "      <td>624</td>\n",
       "      <td>b5f937e40b9cb0e2eecb4ba2365e2019</td>\n",
       "    </tr>\n",
       "    <tr>\n",
       "      <th>1</th>\n",
       "      <td>1073</td>\n",
       "      <td>304687</td>\n",
       "      <td>0</td>\n",
       "      <td>1867</td>\n",
       "      <td>b5f937e40b9cb0e2eecb4ba2365e2019</td>\n",
       "    </tr>\n",
       "    <tr>\n",
       "      <th>2</th>\n",
       "      <td>1073</td>\n",
       "      <td>149267</td>\n",
       "      <td>0</td>\n",
       "      <td>1322</td>\n",
       "      <td>b5f937e40b9cb0e2eecb4ba2365e2019</td>\n",
       "    </tr>\n",
       "    <tr>\n",
       "      <th>3</th>\n",
       "      <td>1073</td>\n",
       "      <td>140098</td>\n",
       "      <td>0</td>\n",
       "      <td>1276</td>\n",
       "      <td>b5f937e40b9cb0e2eecb4ba2365e2019</td>\n",
       "    </tr>\n",
       "  </tbody>\n",
       "</table>\n",
       "</div>"
      ],
      "text/plain": [
       "   user_id  book_id_gr  user_idx  book_idx                        user_id_gr\n",
       "0     1073       47970         0       624  b5f937e40b9cb0e2eecb4ba2365e2019\n",
       "1     1073      304687         0      1867  b5f937e40b9cb0e2eecb4ba2365e2019\n",
       "2     1073      149267         0      1322  b5f937e40b9cb0e2eecb4ba2365e2019\n",
       "3     1073      140098         0      1276  b5f937e40b9cb0e2eecb4ba2365e2019"
      ]
     },
     "execution_count": 11,
     "metadata": {},
     "output_type": "execute_result"
    }
   ],
   "source": [
    "idx_idgr.head(4)"
   ]
  },
  {
   "cell_type": "code",
   "execution_count": 12,
   "metadata": {},
   "outputs": [],
   "source": [
    "list_user_gr = list(set(idx_idgr['user_id_gr']))"
   ]
  },
  {
   "cell_type": "code",
   "execution_count": 36,
   "metadata": {},
   "outputs": [],
   "source": [
    "list_book_gr = list(set(idx_idgr['book_id_gr']))"
   ]
  },
  {
   "cell_type": "code",
   "execution_count": 37,
   "metadata": {},
   "outputs": [
    {
     "data": {
      "text/plain": [
       "10268"
      ]
     },
     "execution_count": 37,
     "metadata": {},
     "output_type": "execute_result"
    }
   ],
   "source": [
    "len(list_book_gr)"
   ]
  },
  {
   "cell_type": "code",
   "execution_count": 13,
   "metadata": {},
   "outputs": [
    {
     "data": {
      "text/plain": [
       "787"
      ]
     },
     "execution_count": 13,
     "metadata": {},
     "output_type": "execute_result"
    }
   ],
   "source": [
    "len(list_user_gr)"
   ]
  },
  {
   "cell_type": "code",
   "execution_count": 15,
   "metadata": {},
   "outputs": [],
   "source": [
    "# Some useful methods related to json files\n",
    "\n",
    "# Reading the input json file\n",
    "def load_data(inputdata):\n",
    "    #books = []\n",
    "    with gzip.open(inputdata) as json_file:\n",
    "        for line in json_file:\n",
    "            book = json.loads(line)\n",
    "            books.append(book)\n",
    "    return books\n",
    "\n",
    "# Extracting subset of the data\n",
    "def split_data(inputdata, cutoff):\n",
    "    books = []\n",
    "    count = 0\n",
    "    with gzip.open(inputdata) as json_file:\n",
    "        for line in json_file:\n",
    "            if count <= cutoff:\n",
    "                book = json.loads(line)\n",
    "                count += 1\n",
    "                books.append(book)\n",
    "    return books\n",
    "\n",
    "# get data needed from json\n",
    "def get_reviews_data(inputdata, list_users):\n",
    "    reviews = []\n",
    "    with gzip.open(inputdata) as json_file:\n",
    "        for lines in json_file:\n",
    "            review = {}\n",
    "            line = json.loads(lines)\n",
    "            if line['user_id'] in list_user_gr:\n",
    "                review['book_id'] = line['book_id']\n",
    "                review['user_id'] = line['user_id']\n",
    "                review['rating'] = line['rating']\n",
    "                review['review_text'] = line['review_text']\n",
    "                reviews.append(review)\n",
    "    return reviews\n",
    "\n"
   ]
  },
  {
   "cell_type": "code",
   "execution_count": 16,
   "metadata": {},
   "outputs": [],
   "source": [
    "reviews = get_reviews_data('goodreads_reviews_dedup.json.gz', list_user_gr)"
   ]
  },
  {
   "cell_type": "code",
   "execution_count": 17,
   "metadata": {},
   "outputs": [
    {
     "data": {
      "text/plain": [
       "{'book_id': '399550',\n",
       " 'user_id': 'b5f937e40b9cb0e2eecb4ba2365e2019',\n",
       " 'rating': 2,\n",
       " 'review_text': 'I think Claremont had too big of a nerdgasm writing this ... seemed like he was trying to pull a lot of cannonical storylines together into a somewhat uneven mess.'}"
      ]
     },
     "execution_count": 17,
     "metadata": {},
     "output_type": "execute_result"
    }
   ],
   "source": [
    "reviews[0]"
   ]
  },
  {
   "cell_type": "code",
   "execution_count": 18,
   "metadata": {},
   "outputs": [
    {
     "data": {
      "text/plain": [
       "909713"
      ]
     },
     "execution_count": 18,
     "metadata": {},
     "output_type": "execute_result"
    }
   ],
   "source": [
    "len(reviews)"
   ]
  },
  {
   "cell_type": "code",
   "execution_count": 19,
   "metadata": {},
   "outputs": [],
   "source": [
    "dfreviews = pd.DataFrame(reviews)"
   ]
  },
  {
   "cell_type": "code",
   "execution_count": 21,
   "metadata": {},
   "outputs": [
    {
     "data": {
      "text/html": [
       "<div>\n",
       "<style scoped>\n",
       "    .dataframe tbody tr th:only-of-type {\n",
       "        vertical-align: middle;\n",
       "    }\n",
       "\n",
       "    .dataframe tbody tr th {\n",
       "        vertical-align: top;\n",
       "    }\n",
       "\n",
       "    .dataframe thead th {\n",
       "        text-align: right;\n",
       "    }\n",
       "</style>\n",
       "<table border=\"1\" class=\"dataframe\">\n",
       "  <thead>\n",
       "    <tr style=\"text-align: right;\">\n",
       "      <th></th>\n",
       "      <th>book_id</th>\n",
       "      <th>rating</th>\n",
       "      <th>review_text</th>\n",
       "      <th>user_id</th>\n",
       "    </tr>\n",
       "  </thead>\n",
       "  <tbody>\n",
       "    <tr>\n",
       "      <th>0</th>\n",
       "      <td>399550</td>\n",
       "      <td>2</td>\n",
       "      <td>I think Claremont had too big of a nerdgasm wr...</td>\n",
       "      <td>b5f937e40b9cb0e2eecb4ba2365e2019</td>\n",
       "    </tr>\n",
       "    <tr>\n",
       "      <th>1</th>\n",
       "      <td>30896651</td>\n",
       "      <td>3</td>\n",
       "      <td>I really think this series is the best Star Tr...</td>\n",
       "      <td>b5f937e40b9cb0e2eecb4ba2365e2019</td>\n",
       "    </tr>\n",
       "    <tr>\n",
       "      <th>2</th>\n",
       "      <td>32052243</td>\n",
       "      <td>3</td>\n",
       "      <td>3 story, 5 presentation!</td>\n",
       "      <td>b5f937e40b9cb0e2eecb4ba2365e2019</td>\n",
       "    </tr>\n",
       "    <tr>\n",
       "      <th>3</th>\n",
       "      <td>17333340</td>\n",
       "      <td>2</td>\n",
       "      <td>I'm sure much of this volume can be written of...</td>\n",
       "      <td>b5f937e40b9cb0e2eecb4ba2365e2019</td>\n",
       "    </tr>\n",
       "    <tr>\n",
       "      <th>4</th>\n",
       "      <td>32761530</td>\n",
       "      <td>3</td>\n",
       "      <td>Zing-y! I think Visaggio has a way with the qu...</td>\n",
       "      <td>b5f937e40b9cb0e2eecb4ba2365e2019</td>\n",
       "    </tr>\n",
       "  </tbody>\n",
       "</table>\n",
       "</div>"
      ],
      "text/plain": [
       "    book_id  rating                                        review_text  \\\n",
       "0    399550       2  I think Claremont had too big of a nerdgasm wr...   \n",
       "1  30896651       3  I really think this series is the best Star Tr...   \n",
       "2  32052243       3                           3 story, 5 presentation!   \n",
       "3  17333340       2  I'm sure much of this volume can be written of...   \n",
       "4  32761530       3  Zing-y! I think Visaggio has a way with the qu...   \n",
       "\n",
       "                            user_id  \n",
       "0  b5f937e40b9cb0e2eecb4ba2365e2019  \n",
       "1  b5f937e40b9cb0e2eecb4ba2365e2019  \n",
       "2  b5f937e40b9cb0e2eecb4ba2365e2019  \n",
       "3  b5f937e40b9cb0e2eecb4ba2365e2019  \n",
       "4  b5f937e40b9cb0e2eecb4ba2365e2019  "
      ]
     },
     "execution_count": 21,
     "metadata": {},
     "output_type": "execute_result"
    }
   ],
   "source": [
    "dfreviews[dfreviews['user_id'] == 'b5f937e40b9cb0e2eecb4ba2365e2019'].head()"
   ]
  },
  {
   "cell_type": "code",
   "execution_count": 41,
   "metadata": {},
   "outputs": [],
   "source": [
    "bookssf = pd.read_csv('books-authors.csv')"
   ]
  },
  {
   "cell_type": "code",
   "execution_count": 42,
   "metadata": {},
   "outputs": [
    {
     "data": {
      "text/html": [
       "<div>\n",
       "<style scoped>\n",
       "    .dataframe tbody tr th:only-of-type {\n",
       "        vertical-align: middle;\n",
       "    }\n",
       "\n",
       "    .dataframe tbody tr th {\n",
       "        vertical-align: top;\n",
       "    }\n",
       "\n",
       "    .dataframe thead th {\n",
       "        text-align: right;\n",
       "    }\n",
       "</style>\n",
       "<table border=\"1\" class=\"dataframe\">\n",
       "  <thead>\n",
       "    <tr style=\"text-align: right;\">\n",
       "      <th></th>\n",
       "      <th>author</th>\n",
       "      <th>average_rating</th>\n",
       "      <th>book_id</th>\n",
       "      <th>count_shelves</th>\n",
       "      <th>isbn</th>\n",
       "      <th>num_pages</th>\n",
       "      <th>popular_shelves</th>\n",
       "      <th>publication_year</th>\n",
       "      <th>ratings_count</th>\n",
       "      <th>title</th>\n",
       "    </tr>\n",
       "  </thead>\n",
       "  <tbody>\n",
       "    <tr>\n",
       "      <th>0</th>\n",
       "      <td>604031.0</td>\n",
       "      <td>4.00</td>\n",
       "      <td>5333265</td>\n",
       "      <td>['3', '1', '1', '1', '1']</td>\n",
       "      <td>0312853122</td>\n",
       "      <td>256.0</td>\n",
       "      <td>['to-read', 'p', 'collection', 'w-c-fields', '...</td>\n",
       "      <td>1984.0</td>\n",
       "      <td>3.0</td>\n",
       "      <td>W.C. Fields: A Life on Film</td>\n",
       "    </tr>\n",
       "    <tr>\n",
       "      <th>1</th>\n",
       "      <td>626222.0</td>\n",
       "      <td>3.23</td>\n",
       "      <td>1333909</td>\n",
       "      <td>['2634', '160', '92', '25', '22', '19', '17', ...</td>\n",
       "      <td>0743509986</td>\n",
       "      <td>NaN</td>\n",
       "      <td>['to-read', 'fiction', 'currently-reading', 'c...</td>\n",
       "      <td>2001.0</td>\n",
       "      <td>10.0</td>\n",
       "      <td>Good Harbor</td>\n",
       "    </tr>\n",
       "    <tr>\n",
       "      <th>2</th>\n",
       "      <td>149918.0</td>\n",
       "      <td>3.40</td>\n",
       "      <td>287140</td>\n",
       "      <td>['32', '3', '2', '2', '1', '1', '1', '1', '1',...</td>\n",
       "      <td>0850308712</td>\n",
       "      <td>NaN</td>\n",
       "      <td>['to-read', 'runes', 'owned', 'nonfiction', 'k...</td>\n",
       "      <td>NaN</td>\n",
       "      <td>15.0</td>\n",
       "      <td>Runic Astrology: Starcraft and Timekeeping in ...</td>\n",
       "    </tr>\n",
       "    <tr>\n",
       "      <th>3</th>\n",
       "      <td>3041852.0</td>\n",
       "      <td>4.13</td>\n",
       "      <td>287141</td>\n",
       "      <td>['56', '10', '4', '3', '2', '2', '2', '2', '2'...</td>\n",
       "      <td>1599150603</td>\n",
       "      <td>162.0</td>\n",
       "      <td>['to-read', 'currently-reading', 'history', 'c...</td>\n",
       "      <td>2006.0</td>\n",
       "      <td>46.0</td>\n",
       "      <td>The Aeneid for Boys and Girls</td>\n",
       "    </tr>\n",
       "  </tbody>\n",
       "</table>\n",
       "</div>"
      ],
      "text/plain": [
       "      author  average_rating  book_id  \\\n",
       "0   604031.0            4.00  5333265   \n",
       "1   626222.0            3.23  1333909   \n",
       "2   149918.0            3.40   287140   \n",
       "3  3041852.0            4.13   287141   \n",
       "\n",
       "                                       count_shelves        isbn  num_pages  \\\n",
       "0                          ['3', '1', '1', '1', '1']  0312853122      256.0   \n",
       "1  ['2634', '160', '92', '25', '22', '19', '17', ...  0743509986        NaN   \n",
       "2  ['32', '3', '2', '2', '1', '1', '1', '1', '1',...  0850308712        NaN   \n",
       "3  ['56', '10', '4', '3', '2', '2', '2', '2', '2'...  1599150603      162.0   \n",
       "\n",
       "                                     popular_shelves  publication_year  \\\n",
       "0  ['to-read', 'p', 'collection', 'w-c-fields', '...            1984.0   \n",
       "1  ['to-read', 'fiction', 'currently-reading', 'c...            2001.0   \n",
       "2  ['to-read', 'runes', 'owned', 'nonfiction', 'k...               NaN   \n",
       "3  ['to-read', 'currently-reading', 'history', 'c...            2006.0   \n",
       "\n",
       "   ratings_count                                              title  \n",
       "0            3.0                        W.C. Fields: A Life on Film  \n",
       "1           10.0                                        Good Harbor  \n",
       "2           15.0  Runic Astrology: Starcraft and Timekeeping in ...  \n",
       "3           46.0                      The Aeneid for Boys and Girls  "
      ]
     },
     "execution_count": 42,
     "metadata": {},
     "output_type": "execute_result"
    }
   ],
   "source": [
    "bookssf.head(4)"
   ]
  },
  {
   "cell_type": "code",
   "execution_count": 47,
   "metadata": {},
   "outputs": [],
   "source": [
    "user_book = bookssf[bookssf['book_id'].isin(list_book_gr)]"
   ]
  },
  {
   "cell_type": "code",
   "execution_count": 48,
   "metadata": {},
   "outputs": [
    {
     "data": {
      "text/plain": [
       "10268"
      ]
     },
     "execution_count": 48,
     "metadata": {},
     "output_type": "execute_result"
    }
   ],
   "source": [
    "len(set(test['book_id']))"
   ]
  },
  {
   "cell_type": "code",
   "execution_count": 51,
   "metadata": {},
   "outputs": [
    {
     "data": {
      "text/plain": [
       "str"
      ]
     },
     "execution_count": 51,
     "metadata": {},
     "output_type": "execute_result"
    }
   ],
   "source": [
    "type(dfreviews.iloc[0][0])"
   ]
  },
  {
   "cell_type": "code",
   "execution_count": 52,
   "metadata": {},
   "outputs": [
    {
     "name": "stderr",
     "output_type": "stream",
     "text": [
      "/Users/yasminechebaro/anaconda3/lib/python3.7/site-packages/ipykernel_launcher.py:1: SettingWithCopyWarning: \n",
      "A value is trying to be set on a copy of a slice from a DataFrame.\n",
      "Try using .loc[row_indexer,col_indexer] = value instead\n",
      "\n",
      "See the caveats in the documentation: http://pandas.pydata.org/pandas-docs/stable/indexing.html#indexing-view-versus-copy\n",
      "  \"\"\"Entry point for launching an IPython kernel.\n"
     ]
    }
   ],
   "source": [
    "user_book['book_id'] = user_book['book_id'].astype(str)"
   ]
  },
  {
   "cell_type": "code",
   "execution_count": 53,
   "metadata": {},
   "outputs": [],
   "source": [
    "#user_book_rev = dfreviews[dfreviews['book_id'].isin(list_book_gr)]\n",
    "u_b_r = pd.merge(user_book, dfreviews, on='book_id')"
   ]
  },
  {
   "cell_type": "code",
   "execution_count": 40,
   "metadata": {},
   "outputs": [
    {
     "data": {
      "text/html": [
       "<div>\n",
       "<style scoped>\n",
       "    .dataframe tbody tr th:only-of-type {\n",
       "        vertical-align: middle;\n",
       "    }\n",
       "\n",
       "    .dataframe tbody tr th {\n",
       "        vertical-align: top;\n",
       "    }\n",
       "\n",
       "    .dataframe thead th {\n",
       "        text-align: right;\n",
       "    }\n",
       "</style>\n",
       "<table border=\"1\" class=\"dataframe\">\n",
       "  <thead>\n",
       "    <tr style=\"text-align: right;\">\n",
       "      <th></th>\n",
       "      <th>book_id</th>\n",
       "      <th>rating</th>\n",
       "      <th>review_text</th>\n",
       "      <th>user_id</th>\n",
       "    </tr>\n",
       "  </thead>\n",
       "  <tbody>\n",
       "    <tr>\n",
       "      <th>0</th>\n",
       "      <td>399550</td>\n",
       "      <td>2</td>\n",
       "      <td>I think Claremont had too big of a nerdgasm wr...</td>\n",
       "      <td>b5f937e40b9cb0e2eecb4ba2365e2019</td>\n",
       "    </tr>\n",
       "    <tr>\n",
       "      <th>1</th>\n",
       "      <td>30896651</td>\n",
       "      <td>3</td>\n",
       "      <td>I really think this series is the best Star Tr...</td>\n",
       "      <td>b5f937e40b9cb0e2eecb4ba2365e2019</td>\n",
       "    </tr>\n",
       "    <tr>\n",
       "      <th>2</th>\n",
       "      <td>32052243</td>\n",
       "      <td>3</td>\n",
       "      <td>3 story, 5 presentation!</td>\n",
       "      <td>b5f937e40b9cb0e2eecb4ba2365e2019</td>\n",
       "    </tr>\n",
       "    <tr>\n",
       "      <th>3</th>\n",
       "      <td>17333340</td>\n",
       "      <td>2</td>\n",
       "      <td>I'm sure much of this volume can be written of...</td>\n",
       "      <td>b5f937e40b9cb0e2eecb4ba2365e2019</td>\n",
       "    </tr>\n",
       "  </tbody>\n",
       "</table>\n",
       "</div>"
      ],
      "text/plain": [
       "    book_id  rating                                        review_text  \\\n",
       "0    399550       2  I think Claremont had too big of a nerdgasm wr...   \n",
       "1  30896651       3  I really think this series is the best Star Tr...   \n",
       "2  32052243       3                           3 story, 5 presentation!   \n",
       "3  17333340       2  I'm sure much of this volume can be written of...   \n",
       "\n",
       "                            user_id  \n",
       "0  b5f937e40b9cb0e2eecb4ba2365e2019  \n",
       "1  b5f937e40b9cb0e2eecb4ba2365e2019  \n",
       "2  b5f937e40b9cb0e2eecb4ba2365e2019  \n",
       "3  b5f937e40b9cb0e2eecb4ba2365e2019  "
      ]
     },
     "execution_count": 40,
     "metadata": {},
     "output_type": "execute_result"
    }
   ],
   "source": [
    "dfreviews.head(4)"
   ]
  },
  {
   "cell_type": "code",
   "execution_count": 54,
   "metadata": {},
   "outputs": [
    {
     "data": {
      "text/html": [
       "<div>\n",
       "<style scoped>\n",
       "    .dataframe tbody tr th:only-of-type {\n",
       "        vertical-align: middle;\n",
       "    }\n",
       "\n",
       "    .dataframe tbody tr th {\n",
       "        vertical-align: top;\n",
       "    }\n",
       "\n",
       "    .dataframe thead th {\n",
       "        text-align: right;\n",
       "    }\n",
       "</style>\n",
       "<table border=\"1\" class=\"dataframe\">\n",
       "  <thead>\n",
       "    <tr style=\"text-align: right;\">\n",
       "      <th></th>\n",
       "      <th>author</th>\n",
       "      <th>average_rating</th>\n",
       "      <th>book_id</th>\n",
       "      <th>count_shelves</th>\n",
       "      <th>isbn</th>\n",
       "      <th>num_pages</th>\n",
       "      <th>popular_shelves</th>\n",
       "      <th>publication_year</th>\n",
       "      <th>ratings_count</th>\n",
       "      <th>title</th>\n",
       "      <th>rating</th>\n",
       "      <th>review_text</th>\n",
       "      <th>user_id</th>\n",
       "    </tr>\n",
       "  </thead>\n",
       "  <tbody>\n",
       "    <tr>\n",
       "      <th>0</th>\n",
       "      <td>20560.0</td>\n",
       "      <td>3.75</td>\n",
       "      <td>89583</td>\n",
       "      <td>['550', '89', '57', '42', '31', '20', '16', '1...</td>\n",
       "      <td>0380791986</td>\n",
       "      <td>544.0</td>\n",
       "      <td>['to-read', 'science-fiction', 'sci-fi', 'fant...</td>\n",
       "      <td>1999.0</td>\n",
       "      <td>1321.0</td>\n",
       "      <td>Six Moon Dance</td>\n",
       "      <td>4</td>\n",
       "      <td>Anyone familiar with Ms. Tepper's works is fam...</td>\n",
       "      <td>ca1c301fff032671a4fd555429db2298</td>\n",
       "    </tr>\n",
       "    <tr>\n",
       "      <th>1</th>\n",
       "      <td>20560.0</td>\n",
       "      <td>3.75</td>\n",
       "      <td>89583</td>\n",
       "      <td>['550', '89', '57', '42', '31', '20', '16', '1...</td>\n",
       "      <td>0380791986</td>\n",
       "      <td>544.0</td>\n",
       "      <td>['to-read', 'science-fiction', 'sci-fi', 'fant...</td>\n",
       "      <td>1999.0</td>\n",
       "      <td>1321.0</td>\n",
       "      <td>Six Moon Dance</td>\n",
       "      <td>2</td>\n",
       "      <td>When I discovered Sheri S. Tepper in high scho...</td>\n",
       "      <td>fe7d2f1ecc244521ef709c1e7e8cfadd</td>\n",
       "    </tr>\n",
       "    <tr>\n",
       "      <th>2</th>\n",
       "      <td>20560.0</td>\n",
       "      <td>3.75</td>\n",
       "      <td>89583</td>\n",
       "      <td>['550', '89', '57', '42', '31', '20', '16', '1...</td>\n",
       "      <td>0380791986</td>\n",
       "      <td>544.0</td>\n",
       "      <td>['to-read', 'science-fiction', 'sci-fi', 'fant...</td>\n",
       "      <td>1999.0</td>\n",
       "      <td>1321.0</td>\n",
       "      <td>Six Moon Dance</td>\n",
       "      <td>4</td>\n",
       "      <td>One of Tepper's better books, I think. And it ...</td>\n",
       "      <td>5c6a039f39fe09545af84d817af170c9</td>\n",
       "    </tr>\n",
       "    <tr>\n",
       "      <th>3</th>\n",
       "      <td>20560.0</td>\n",
       "      <td>3.75</td>\n",
       "      <td>89583</td>\n",
       "      <td>['550', '89', '57', '42', '31', '20', '16', '1...</td>\n",
       "      <td>0380791986</td>\n",
       "      <td>544.0</td>\n",
       "      <td>['to-read', 'science-fiction', 'sci-fi', 'fant...</td>\n",
       "      <td>1999.0</td>\n",
       "      <td>1321.0</td>\n",
       "      <td>Six Moon Dance</td>\n",
       "      <td>4</td>\n",
       "      <td>I had read this before, as I realised after th...</td>\n",
       "      <td>8de32c077954e6080a94f2e2ced6116f</td>\n",
       "    </tr>\n",
       "  </tbody>\n",
       "</table>\n",
       "</div>"
      ],
      "text/plain": [
       "    author  average_rating book_id  \\\n",
       "0  20560.0            3.75   89583   \n",
       "1  20560.0            3.75   89583   \n",
       "2  20560.0            3.75   89583   \n",
       "3  20560.0            3.75   89583   \n",
       "\n",
       "                                       count_shelves        isbn  num_pages  \\\n",
       "0  ['550', '89', '57', '42', '31', '20', '16', '1...  0380791986      544.0   \n",
       "1  ['550', '89', '57', '42', '31', '20', '16', '1...  0380791986      544.0   \n",
       "2  ['550', '89', '57', '42', '31', '20', '16', '1...  0380791986      544.0   \n",
       "3  ['550', '89', '57', '42', '31', '20', '16', '1...  0380791986      544.0   \n",
       "\n",
       "                                     popular_shelves  publication_year  \\\n",
       "0  ['to-read', 'science-fiction', 'sci-fi', 'fant...            1999.0   \n",
       "1  ['to-read', 'science-fiction', 'sci-fi', 'fant...            1999.0   \n",
       "2  ['to-read', 'science-fiction', 'sci-fi', 'fant...            1999.0   \n",
       "3  ['to-read', 'science-fiction', 'sci-fi', 'fant...            1999.0   \n",
       "\n",
       "   ratings_count           title  rating  \\\n",
       "0         1321.0  Six Moon Dance       4   \n",
       "1         1321.0  Six Moon Dance       2   \n",
       "2         1321.0  Six Moon Dance       4   \n",
       "3         1321.0  Six Moon Dance       4   \n",
       "\n",
       "                                         review_text  \\\n",
       "0  Anyone familiar with Ms. Tepper's works is fam...   \n",
       "1  When I discovered Sheri S. Tepper in high scho...   \n",
       "2  One of Tepper's better books, I think. And it ...   \n",
       "3  I had read this before, as I realised after th...   \n",
       "\n",
       "                            user_id  \n",
       "0  ca1c301fff032671a4fd555429db2298  \n",
       "1  fe7d2f1ecc244521ef709c1e7e8cfadd  \n",
       "2  5c6a039f39fe09545af84d817af170c9  \n",
       "3  8de32c077954e6080a94f2e2ced6116f  "
      ]
     },
     "execution_count": 54,
     "metadata": {},
     "output_type": "execute_result"
    }
   ],
   "source": [
    "u_b_r.head(4)"
   ]
  },
  {
   "cell_type": "code",
   "execution_count": 55,
   "metadata": {},
   "outputs": [],
   "source": [
    "ubr_filtered = u_b_r.drop(u_b_r.columns[[3, 4, 5, 6, 7, 8, 10]], axis=1)"
   ]
  },
  {
   "cell_type": "code",
   "execution_count": 56,
   "metadata": {},
   "outputs": [
    {
     "data": {
      "text/html": [
       "<div>\n",
       "<style scoped>\n",
       "    .dataframe tbody tr th:only-of-type {\n",
       "        vertical-align: middle;\n",
       "    }\n",
       "\n",
       "    .dataframe tbody tr th {\n",
       "        vertical-align: top;\n",
       "    }\n",
       "\n",
       "    .dataframe thead th {\n",
       "        text-align: right;\n",
       "    }\n",
       "</style>\n",
       "<table border=\"1\" class=\"dataframe\">\n",
       "  <thead>\n",
       "    <tr style=\"text-align: right;\">\n",
       "      <th></th>\n",
       "      <th>author</th>\n",
       "      <th>average_rating</th>\n",
       "      <th>book_id</th>\n",
       "      <th>title</th>\n",
       "      <th>review_text</th>\n",
       "      <th>user_id</th>\n",
       "    </tr>\n",
       "  </thead>\n",
       "  <tbody>\n",
       "    <tr>\n",
       "      <th>0</th>\n",
       "      <td>20560.0</td>\n",
       "      <td>3.75</td>\n",
       "      <td>89583</td>\n",
       "      <td>Six Moon Dance</td>\n",
       "      <td>Anyone familiar with Ms. Tepper's works is fam...</td>\n",
       "      <td>ca1c301fff032671a4fd555429db2298</td>\n",
       "    </tr>\n",
       "    <tr>\n",
       "      <th>1</th>\n",
       "      <td>20560.0</td>\n",
       "      <td>3.75</td>\n",
       "      <td>89583</td>\n",
       "      <td>Six Moon Dance</td>\n",
       "      <td>When I discovered Sheri S. Tepper in high scho...</td>\n",
       "      <td>fe7d2f1ecc244521ef709c1e7e8cfadd</td>\n",
       "    </tr>\n",
       "    <tr>\n",
       "      <th>2</th>\n",
       "      <td>20560.0</td>\n",
       "      <td>3.75</td>\n",
       "      <td>89583</td>\n",
       "      <td>Six Moon Dance</td>\n",
       "      <td>One of Tepper's better books, I think. And it ...</td>\n",
       "      <td>5c6a039f39fe09545af84d817af170c9</td>\n",
       "    </tr>\n",
       "    <tr>\n",
       "      <th>3</th>\n",
       "      <td>20560.0</td>\n",
       "      <td>3.75</td>\n",
       "      <td>89583</td>\n",
       "      <td>Six Moon Dance</td>\n",
       "      <td>I had read this before, as I realised after th...</td>\n",
       "      <td>8de32c077954e6080a94f2e2ced6116f</td>\n",
       "    </tr>\n",
       "  </tbody>\n",
       "</table>\n",
       "</div>"
      ],
      "text/plain": [
       "    author  average_rating book_id           title  \\\n",
       "0  20560.0            3.75   89583  Six Moon Dance   \n",
       "1  20560.0            3.75   89583  Six Moon Dance   \n",
       "2  20560.0            3.75   89583  Six Moon Dance   \n",
       "3  20560.0            3.75   89583  Six Moon Dance   \n",
       "\n",
       "                                         review_text  \\\n",
       "0  Anyone familiar with Ms. Tepper's works is fam...   \n",
       "1  When I discovered Sheri S. Tepper in high scho...   \n",
       "2  One of Tepper's better books, I think. And it ...   \n",
       "3  I had read this before, as I realised after th...   \n",
       "\n",
       "                            user_id  \n",
       "0  ca1c301fff032671a4fd555429db2298  \n",
       "1  fe7d2f1ecc244521ef709c1e7e8cfadd  \n",
       "2  5c6a039f39fe09545af84d817af170c9  \n",
       "3  8de32c077954e6080a94f2e2ced6116f  "
      ]
     },
     "execution_count": 56,
     "metadata": {},
     "output_type": "execute_result"
    }
   ],
   "source": [
    "ubr_filtered.head(4)"
   ]
  },
  {
   "cell_type": "code",
   "execution_count": 63,
   "metadata": {},
   "outputs": [],
   "source": [
    "ubr_filtered.to_csv('ubr_filtered.csv', index=False)"
   ]
  },
  {
   "cell_type": "code",
   "execution_count": 59,
   "metadata": {},
   "outputs": [
    {
     "data": {
      "text/html": [
       "<div>\n",
       "<style scoped>\n",
       "    .dataframe tbody tr th:only-of-type {\n",
       "        vertical-align: middle;\n",
       "    }\n",
       "\n",
       "    .dataframe tbody tr th {\n",
       "        vertical-align: top;\n",
       "    }\n",
       "\n",
       "    .dataframe thead th {\n",
       "        text-align: right;\n",
       "    }\n",
       "</style>\n",
       "<table border=\"1\" class=\"dataframe\">\n",
       "  <thead>\n",
       "    <tr style=\"text-align: right;\">\n",
       "      <th></th>\n",
       "      <th>author</th>\n",
       "      <th>average_rating</th>\n",
       "      <th>book_id</th>\n",
       "      <th>count_shelves</th>\n",
       "      <th>isbn</th>\n",
       "      <th>num_pages</th>\n",
       "      <th>popular_shelves</th>\n",
       "      <th>publication_year</th>\n",
       "      <th>ratings_count</th>\n",
       "      <th>title</th>\n",
       "    </tr>\n",
       "  </thead>\n",
       "  <tbody>\n",
       "    <tr>\n",
       "      <th>152</th>\n",
       "      <td>20560.0</td>\n",
       "      <td>3.75</td>\n",
       "      <td>89583</td>\n",
       "      <td>['550', '89', '57', '42', '31', '20', '16', '1...</td>\n",
       "      <td>0380791986</td>\n",
       "      <td>544.0</td>\n",
       "      <td>['to-read', 'science-fiction', 'sci-fi', 'fant...</td>\n",
       "      <td>1999.0</td>\n",
       "      <td>1321.0</td>\n",
       "      <td>Six Moon Dance</td>\n",
       "    </tr>\n",
       "  </tbody>\n",
       "</table>\n",
       "</div>"
      ],
      "text/plain": [
       "      author  average_rating  book_id  \\\n",
       "152  20560.0            3.75    89583   \n",
       "\n",
       "                                         count_shelves        isbn  num_pages  \\\n",
       "152  ['550', '89', '57', '42', '31', '20', '16', '1...  0380791986      544.0   \n",
       "\n",
       "                                       popular_shelves  publication_year  \\\n",
       "152  ['to-read', 'science-fiction', 'sci-fi', 'fant...            1999.0   \n",
       "\n",
       "     ratings_count           title  \n",
       "152         1321.0  Six Moon Dance  "
      ]
     },
     "execution_count": 59,
     "metadata": {},
     "output_type": "execute_result"
    }
   ],
   "source": [
    "bookssf[bookssf['book_id'] == 89583] # for testing later"
   ]
  },
  {
   "cell_type": "code",
   "execution_count": 60,
   "metadata": {},
   "outputs": [
    {
     "data": {
      "text/plain": [
       "(66472, 6)"
      ]
     },
     "execution_count": 60,
     "metadata": {},
     "output_type": "execute_result"
    }
   ],
   "source": [
    "ubr_filtered.shape"
   ]
  },
  {
   "cell_type": "code",
   "execution_count": 61,
   "metadata": {},
   "outputs": [],
   "source": [
    "analyser = SentimentIntensityAnalyzer()\n",
    "\n",
    "def sentiment_scores(dfin, analyser):\n",
    "    user_sentiment = defaultdict(list)\n",
    "    for i in range(dfin.shape[0]):\n",
    "        sentiment_dict = analyser.polarity_scores(dfin.iloc[i][4])\n",
    "        user_sentiment[dfin.iloc[i][5]].append(sentiment_dict['compound'])\n",
    "    \n",
    "    return user_sentiment\n",
    "            \n"
   ]
  },
  {
   "cell_type": "code",
   "execution_count": 67,
   "metadata": {},
   "outputs": [],
   "source": [
    "user_sentiment = sentiment_scores(ubr_filtered, analyser)"
   ]
  },
  {
   "cell_type": "code",
   "execution_count": 73,
   "metadata": {},
   "outputs": [],
   "source": [
    "def get_average_sentiment(inputdict):\n",
    "    outputdict = {}\n",
    "    for k,v in inputdict.items():\n",
    "        outputdict[k] = np.mean(v)\n",
    "    \n",
    "    return outputdict\n",
    "    "
   ]
  },
  {
   "cell_type": "code",
   "execution_count": 74,
   "metadata": {},
   "outputs": [],
   "source": [
    "user_sentiment_av = get_average_sentiment(user_sentiment)"
   ]
  },
  {
   "cell_type": "code",
   "execution_count": 72,
   "metadata": {},
   "outputs": [
    {
     "data": {
      "text/plain": [
       "0.684157731958763"
      ]
     },
     "execution_count": 72,
     "metadata": {},
     "output_type": "execute_result"
    }
   ],
   "source": [
    "np.mean(user_sentiment['ca1c301fff032671a4fd555429db2298'])"
   ]
  },
  {
   "cell_type": "code",
   "execution_count": 75,
   "metadata": {},
   "outputs": [
    {
     "data": {
      "text/plain": [
       "0.684157731958763"
      ]
     },
     "execution_count": 75,
     "metadata": {},
     "output_type": "execute_result"
    }
   ],
   "source": [
    "user_sentiment_av['ca1c301fff032671a4fd555429db2298']"
   ]
  },
  {
   "cell_type": "code",
   "execution_count": 87,
   "metadata": {},
   "outputs": [],
   "source": [
    "def get_nature_avsent(inputdict):\n",
    "    outputdict = {}\n",
    "    for k, v in inputdict.items():\n",
    "        if v >= 0.05:\n",
    "            outputdict[k] = 'positive'\n",
    "        elif v <= -0.05:\n",
    "            outputdict[k] = 'negative'\n",
    "        else:\n",
    "            outputdict[k] = 'neutral'\n",
    "            \n",
    "    return outputdict"
   ]
  },
  {
   "cell_type": "code",
   "execution_count": 88,
   "metadata": {},
   "outputs": [],
   "source": [
    "user_sent_nature = get_nature_avsent(user_sentiment_av)"
   ]
  },
  {
   "cell_type": "code",
   "execution_count": 89,
   "metadata": {},
   "outputs": [],
   "source": [
    "user_sent = pd.DataFrame(zip(list(user_sent_nature.keys()), list(user_sent_nature.values())), columns=['User', 'Average sentiment'])"
   ]
  },
  {
   "cell_type": "code",
   "execution_count": 90,
   "metadata": {},
   "outputs": [
    {
     "data": {
      "text/html": [
       "<div>\n",
       "<style scoped>\n",
       "    .dataframe tbody tr th:only-of-type {\n",
       "        vertical-align: middle;\n",
       "    }\n",
       "\n",
       "    .dataframe tbody tr th {\n",
       "        vertical-align: top;\n",
       "    }\n",
       "\n",
       "    .dataframe thead th {\n",
       "        text-align: right;\n",
       "    }\n",
       "</style>\n",
       "<table border=\"1\" class=\"dataframe\">\n",
       "  <thead>\n",
       "    <tr style=\"text-align: right;\">\n",
       "      <th></th>\n",
       "      <th>User</th>\n",
       "      <th>Average sentiment</th>\n",
       "    </tr>\n",
       "  </thead>\n",
       "  <tbody>\n",
       "    <tr>\n",
       "      <th>0</th>\n",
       "      <td>ca1c301fff032671a4fd555429db2298</td>\n",
       "      <td>positive</td>\n",
       "    </tr>\n",
       "    <tr>\n",
       "      <th>1</th>\n",
       "      <td>fe7d2f1ecc244521ef709c1e7e8cfadd</td>\n",
       "      <td>positive</td>\n",
       "    </tr>\n",
       "    <tr>\n",
       "      <th>2</th>\n",
       "      <td>5c6a039f39fe09545af84d817af170c9</td>\n",
       "      <td>positive</td>\n",
       "    </tr>\n",
       "    <tr>\n",
       "      <th>3</th>\n",
       "      <td>8de32c077954e6080a94f2e2ced6116f</td>\n",
       "      <td>positive</td>\n",
       "    </tr>\n",
       "  </tbody>\n",
       "</table>\n",
       "</div>"
      ],
      "text/plain": [
       "                               User Average sentiment\n",
       "0  ca1c301fff032671a4fd555429db2298          positive\n",
       "1  fe7d2f1ecc244521ef709c1e7e8cfadd          positive\n",
       "2  5c6a039f39fe09545af84d817af170c9          positive\n",
       "3  8de32c077954e6080a94f2e2ced6116f          positive"
      ]
     },
     "execution_count": 90,
     "metadata": {},
     "output_type": "execute_result"
    }
   ],
   "source": [
    "user_sent.head(4)"
   ]
  },
  {
   "cell_type": "code",
   "execution_count": 92,
   "metadata": {},
   "outputs": [
    {
     "data": {
      "text/plain": [
       "positive    759\n",
       "neutral      15\n",
       "negative     12\n",
       "Name: Average sentiment, dtype: int64"
      ]
     },
     "execution_count": 92,
     "metadata": {},
     "output_type": "execute_result"
    }
   ],
   "source": [
    "user_sent['Average sentiment'].value_counts()"
   ]
  },
  {
   "cell_type": "code",
   "execution_count": null,
   "metadata": {},
   "outputs": [],
   "source": []
  }
 ],
 "metadata": {
  "kernelspec": {
   "display_name": "Python 3",
   "language": "python",
   "name": "python3"
  },
  "language_info": {
   "codemirror_mode": {
    "name": "ipython",
    "version": 3
   },
   "file_extension": ".py",
   "mimetype": "text/x-python",
   "name": "python",
   "nbconvert_exporter": "python",
   "pygments_lexer": "ipython3",
   "version": "3.7.3"
  }
 },
 "nbformat": 4,
 "nbformat_minor": 2
}
