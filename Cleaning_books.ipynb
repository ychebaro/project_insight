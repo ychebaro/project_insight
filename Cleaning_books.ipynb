{
 "cells": [
  {
   "cell_type": "code",
   "execution_count": 1,
   "metadata": {},
   "outputs": [],
   "source": [
    "import pandas as pd\n",
    "import numpy as np\n",
    "import gzip\n",
    "import json\n",
    "import re\n",
    "import os\n",
    "import sys\n",
    "import matplotlib.pyplot as plt\n",
    "import seaborn as sns\n",
    "\n",
    "sns.set()\n",
    "\n",
    "\n",
    "%matplotlib inline"
   ]
  },
  {
   "cell_type": "markdown",
   "metadata": {},
   "source": [
    "# Section 1. Cleaning up the books data\n",
    "\n",
    "Using the json file from UCSD which contains about 2.6M book entries, clean up the data.\n",
    "\n",
    "This consists of:\n",
    "1. Removing non-English and children books\n",
    "\n",
    "This is achieved by extracting the books where language_id is not null or eng. Somehow this entry is not correctly labelled all the time, and English books do not necessarily have a correct language_id (it can be void). If child is found in the shelves names (or tags) remove them as well.\n",
    "\n",
    "2. Cleaning tags\n",
    "\n",
    "Tags are redundant and very messy. Previous EDA showed that the first most used 500 tags are enough to cover about 90% of the number of books (confirmer), and that after the third tag generally speaking more errors happen.\n",
    "2.1 Remove non-informative tags such as to-read etc...\n",
    "2.2 Recover abbreviations, ex ya for young-adult\n"
   ]
  },
  {
   "cell_type": "code",
   "execution_count": 2,
   "metadata": {},
   "outputs": [],
   "source": [
    "# Some useful methods related to json files\n",
    "\n",
    "# Reading the input json file\n",
    "def load_data(inputdata):\n",
    "    books = []\n",
    "    with gzip.open(inputdata) as json_file:\n",
    "        for line in json_file:\n",
    "            book = json.loads(line)\n",
    "            books.append(book)\n",
    "    return books\n",
    "\n",
    "# Extracting subset of the data\n",
    "def split_data(inputdata, cutoff):\n",
    "    books = []\n",
    "    count = 0\n",
    "    with gzip.open(inputdata) as json_file:\n",
    "        for line in json_file:\n",
    "            if count <= cutoff:\n",
    "                book = json.loads(line)\n",
    "                count += 1\n",
    "                books.append(book)\n",
    "    return books\n",
    "\n",
    "# get data needed from json\n",
    "def get_books_data(inputdata):\n",
    "    books = []\n",
    "    with open(inputdata) as json_file:\n",
    "        for lines in json_file:\n",
    "            book = {}\n",
    "            line = json.loads(lines)\n",
    "            names = []\n",
    "            counts = []                   \n",
    "            names = [elm['name'] for elm in line['popular_shelves']] \n",
    "            counts = [elm['count'] for elm in line['popular_shelves']]\n",
    "            book['isbn'] = line['isbn']\n",
    "            book['book_id'] = line['book_id']\n",
    "            book['popular_shelves'] = names\n",
    "            book['count_shelves'] = counts\n",
    "            book['title'] = line['title']\n",
    "            book['num_pages'] = line['num_pages']\n",
    "            book['publication_year'] = line['publication_year']\n",
    "            book['average_rating'] = line['average_rating']\n",
    "            book['ratings_count'] = line['ratings_count']\n",
    "            books.append(book)\n",
    "    return books\n"
   ]
  },
  {
   "cell_type": "markdown",
   "metadata": {},
   "source": [
    "## 1.1 Getting English books\n"
   ]
  },
  {
   "cell_type": "markdown",
   "metadata": {},
   "source": [
    "Converting the json file into a pandas dataframe, total number of books in the database is: 2,360,655"
   ]
  },
  {
   "cell_type": "code",
   "execution_count": 3,
   "metadata": {},
   "outputs": [],
   "source": [
    "def clean_data_language(inputdata, outputfile):\n",
    "    eng_lan = ['en', 'enm', 'en-US', 'en-GB', '']\n",
    "    child_books = ['child', 'children', 'children-s', 'childrens', 'kids-books', 'childrens-s-books']\n",
    "\n",
    "    output = open(outputfile, 'w')\n",
    "    with gzip.open(inputdata) as json_file:\n",
    "        for line in json_file:\n",
    "            book = json.loads(line)\n",
    "            names = [elm['name'] for elm in book['popular_shelves']]\n",
    "            if (book['language_code'] in eng_lan) and (not set(child_books).isdisjoint(names[:6]) == False):\n",
    "                output.write('{}\\n'.format(json.dumps(book)))\n",
    "    output.close()\n",
    "\n"
   ]
  },
  {
   "cell_type": "code",
   "execution_count": 4,
   "metadata": {},
   "outputs": [],
   "source": [
    "# First get english and non-children books\n",
    "books_json = clean_data_language('goodreads_books.json.gz', 'books_en_nochild.json')"
   ]
  },
  {
   "cell_type": "markdown",
   "metadata": {},
   "source": [
    "After removing these entries, the number of books is now up to: 1,156,654"
   ]
  },
  {
   "cell_type": "code",
   "execution_count": 5,
   "metadata": {},
   "outputs": [],
   "source": [
    "books_en = get_books_data('books_en_nochild.json')\n",
    "booksdf = pd.DataFrame(books_en)"
   ]
  },
  {
   "cell_type": "code",
   "execution_count": 6,
   "metadata": {},
   "outputs": [
    {
     "data": {
      "text/plain": [
       "1156654"
      ]
     },
     "execution_count": 6,
     "metadata": {},
     "output_type": "execute_result"
    }
   ],
   "source": [
    "len(booksdf)"
   ]
  },
  {
   "cell_type": "markdown",
   "metadata": {},
   "source": [
    "## 2.1 Removing unwanted tags"
   ]
  },
  {
   "cell_type": "code",
   "execution_count": 8,
   "metadata": {},
   "outputs": [],
   "source": [
    "def clean_data_nasty_tags(dfin):\n",
    "\n",
    "    popular_shelves = dfin['popular_shelves']\n",
    "    count_shelves = dfin['count_shelves']\n",
    "    \n",
    "    popnew = []\n",
    "    cnew = []\n",
    "\n",
    "    for elm, elmc in zip(popular_shelves, count_shelves):    \n",
    "        to_remove = []\n",
    "        for i in range(len(elm)):\n",
    "            if (len(elm[i]) == 1) or (bool(re.match('.*book*', elm[i])) == True)\\\n",
    "            or (bool(re.match('.*read*', elm[i])) == True) or (bool(re.match('.*favorite*', elm[i])) == True)\\\n",
    "            or (bool(re.match('.*need*', elm[i])) == True) or (bool(re.match('.*own*', elm[i])) == True)\\\n",
    "            or (bool(re.match('.*shelve*', elm[i])) == True) or (bool(re.match('.*like*', elm[i])) == True)\\\n",
    "            or (bool(re.match('.*shelf*', elm[i])) == True) or (bool(re.match('.*buy*', elm[i])) == True)\\\n",
    "            or (bool(re.match('tbr', elm[i])) == True) or (bool(re.match('.*finish*', elm[i])) == True)\\\n",
    "            or (bool(re.match('.*kindle*', elm[i])) == True) or (bool(re.match('.*list*', elm[i])) == True)\\\n",
    "            or (bool(re.match('.*year*', elm[i])) == True) or (bool(re.match('.*audio*', elm[i])) == True)\\\n",
    "            or (bool(re.match('.*library*', elm[i])) == True) or \\\n",
    "            (bool(re.match('[^\\x00-\\x7F\\x80-\\xFF\\u0100-\\u017F\\u0180-\\u024F\\u1E00-\\u1EFF]', elm[i])) == True):\n",
    "                to_remove.append(i) \n",
    "        \n",
    "        popnew.append([elm[e] for e in range(len(elm)) if e not in to_remove])\n",
    "        cnew.append([elmc[e] for e in range(len(elmc)) if e not in to_remove])\n",
    " \n",
    "    return popnew, cnew"
   ]
  },
  {
   "cell_type": "code",
   "execution_count": null,
   "metadata": {},
   "outputs": [],
   "source": [
    "popnew, cnew = clean_data_nasty_tags(booksdf)\n",
    "new_column_p = pd.Series(popnew, name='popular_shelves', index=range(len(popnew)))\n",
    "new_column_c = pd.Series(cnew, name='count_shelves', index=range(len(cnew)))\n"
   ]
  },
  {
   "cell_type": "code",
   "execution_count": null,
   "metadata": {},
   "outputs": [],
   "source": [
    "#list_tags = alldf['popular_shelves'].to_list()\n",
    "test = [e for elm in popnew for e in elm]\n",
    "for i in test:\n",
    "    if i == 'business':\n",
    "        print(i)"
   ]
  },
  {
   "cell_type": "code",
   "execution_count": null,
   "metadata": {},
   "outputs": [],
   "source": [
    "\n",
    "booksdf.update(new_column_p)\n",
    "booksdf.update(new_column_c)"
   ]
  }
 ],
 "metadata": {
  "kernelspec": {
   "display_name": "Python 3",
   "language": "python",
   "name": "python3"
  },
  "language_info": {
   "codemirror_mode": {
    "name": "ipython",
    "version": 3
   },
   "file_extension": ".py",
   "mimetype": "text/x-python",
   "name": "python",
   "nbconvert_exporter": "python",
   "pygments_lexer": "ipython3",
   "version": "3.7.3"
  }
 },
 "nbformat": 4,
 "nbformat_minor": 2
}
